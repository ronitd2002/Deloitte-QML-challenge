{
  "nbformat": 4,
  "nbformat_minor": 0,
  "metadata": {
    "colab": {
      "provenance": []
    },
    "kernelspec": {
      "name": "python3",
      "display_name": "Python 3"
    },
    "language_info": {
      "name": "python"
    }
  },
  "cells": [
    {
      "cell_type": "code",
      "source": [
        "!unzip /content/Deloitte-Quantum-challenge-main.zip"
      ],
      "metadata": {
        "colab": {
          "base_uri": "https://localhost:8080/"
        },
        "id": "rV2vlBi8dFBm",
        "outputId": "8d760e52-feaf-4b61-f11c-9167dae78f33"
      },
      "execution_count": 1,
      "outputs": [
        {
          "output_type": "stream",
          "name": "stdout",
          "text": [
            "Archive:  /content/Deloitte-Quantum-challenge-main.zip\n",
            "d6b6b18d84c2a64966359a3230d49cb23bfe0c8c\n",
            "   creating: Deloitte-Quantum-challenge-main/\n",
            "  inflating: Deloitte-Quantum-challenge-main/Data_desc.pdf  \n",
            "  inflating: Deloitte-Quantum-challenge-main/LICENSE  \n",
            "   creating: Deloitte-Quantum-challenge-main/Plots/\n",
            "  inflating: Deloitte-Quantum-challenge-main/Plots/plot__KLU__WST__ABF.pdf  \n",
            "  inflating: Deloitte-Quantum-challenge-main/Plots/plot__SBEY__WST__ABF.pdf  \n",
            "  inflating: Deloitte-Quantum-challenge-main/Plots/plot__SBY$__SPI__SPF.pdf  \n",
            "  inflating: Deloitte-Quantum-challenge-main/Plots/plot__SDAL__SPI__SPF.pdf  \n",
            "  inflating: Deloitte-Quantum-challenge-main/Plots/plot__SHT$__SPI__SPF.pdf  \n",
            "  inflating: Deloitte-Quantum-challenge-main/Plots/plot__SKRE__WST__ABF.pdf  \n",
            "  inflating: Deloitte-Quantum-challenge-main/Plots/plot__SLAA__WST__ABF.pdf  \n",
            "  inflating: Deloitte-Quantum-challenge-main/Plots/plot__SLEI__WST__ABF.pdf  \n",
            "  inflating: Deloitte-Quantum-challenge-main/Plots/plot__SWU$__SPI__SPF.pdf  \n",
            "  inflating: Deloitte-Quantum-challenge-main/README.md  \n",
            "   creating: Deloitte-Quantum-challenge-main/River_Data/\n",
            "  inflating: Deloitte-Quantum-challenge-main/River_Data/2024_02_23__SBEY__ABF__2024-02-27.csv  \n",
            "  inflating: Deloitte-Quantum-challenge-main/River_Data/2024_02_23__SBEY__WST__2024-02-27.csv  \n",
            "  inflating: Deloitte-Quantum-challenge-main/River_Data/2024_02_23__SKLU__ABF__2024-02-27.csv  \n",
            "  inflating: Deloitte-Quantum-challenge-main/River_Data/2024_02_23__SKLU__WST__2024-02-27.csv  \n",
            "  inflating: Deloitte-Quantum-challenge-main/River_Data/2024_02_23__SKRE__ABF__2024-02-27.csv  \n",
            "  inflating: Deloitte-Quantum-challenge-main/River_Data/2024_02_23__SKRE__WST__2024-02-27.csv  \n",
            "  inflating: Deloitte-Quantum-challenge-main/River_Data/2024_02_23__SLAA__ABF__2024-02-27.csv  \n",
            "  inflating: Deloitte-Quantum-challenge-main/River_Data/2024_02_23__SLAA__WST__2024-02-27.csv  \n",
            "  inflating: Deloitte-Quantum-challenge-main/River_Data/2024_02_23__SLEI__ABF__2024-02-27.csv  \n",
            "  inflating: Deloitte-Quantum-challenge-main/River_Data/2024_02_23__SLEI__WST__2024-02-27.csv  \n",
            "  inflating: Deloitte-Quantum-challenge-main/River_Data/2024_02_26__SBY$__SPF__2024-02-27.csv  \n",
            "  inflating: Deloitte-Quantum-challenge-main/River_Data/2024_02_26__SBY$__SPI__2024-02-27.csv  \n",
            "  inflating: Deloitte-Quantum-challenge-main/River_Data/2024_02_26__SDAL__SPF__2024-02-27.csv  \n",
            "  inflating: Deloitte-Quantum-challenge-main/River_Data/2024_02_26__SDAL__SPI__2024-02-27.csv  \n",
            "  inflating: Deloitte-Quantum-challenge-main/River_Data/2024_02_26__SHT$__SPF__2024-02-27.csv  \n",
            "  inflating: Deloitte-Quantum-challenge-main/River_Data/2024_02_26__SHT$__SPI__2024-02-27.csv  \n",
            "  inflating: Deloitte-Quantum-challenge-main/River_Data/2024_02_26__SWU$__SPF__2024-02-27.csv  \n",
            "  inflating: Deloitte-Quantum-challenge-main/River_Data/2024_02_26__SWU$__SPI__2024-02-27.csv  \n",
            "  inflating: Deloitte-Quantum-challenge-main/river-meta-data.csv  \n",
            "  inflating: Deloitte-Quantum-challenge-main/weather_data.csv  \n"
          ]
        }
      ]
    },
    {
      "cell_type": "code",
      "source": [
        "import pandas as pd\n",
        "import numpy as np\n",
        "import matplotlib.pyplot as plt\n",
        "import os"
      ],
      "metadata": {
        "id": "a8PnLDWwdsK8"
      },
      "execution_count": 2,
      "outputs": []
    },
    {
      "cell_type": "code",
      "source": [
        "data_file = os.listdir('/content/Deloitte-Quantum-challenge-main/River_Data')\n",
        "data_file"
      ],
      "metadata": {
        "colab": {
          "base_uri": "https://localhost:8080/"
        },
        "id": "7ard0SqId0Si",
        "outputId": "82cd90be-33db-476c-b31c-eb72bf5b9fee"
      },
      "execution_count": 3,
      "outputs": [
        {
          "output_type": "execute_result",
          "data": {
            "text/plain": [
              "['2024_02_23__SBEY__WST__2024-02-27.csv',\n",
              " '2024_02_23__SKRE__WST__2024-02-27.csv',\n",
              " '2024_02_26__SHT$__SPI__2024-02-27.csv',\n",
              " '2024_02_26__SBY$__SPF__2024-02-27.csv',\n",
              " '2024_02_26__SWU$__SPI__2024-02-27.csv',\n",
              " '2024_02_26__SDAL__SPI__2024-02-27.csv',\n",
              " '2024_02_23__SLAA__WST__2024-02-27.csv',\n",
              " '2024_02_26__SBY$__SPI__2024-02-27.csv',\n",
              " '2024_02_26__SHT$__SPF__2024-02-27.csv',\n",
              " '2024_02_23__SKLU__ABF__2024-02-27.csv',\n",
              " '2024_02_23__SLEI__WST__2024-02-27.csv',\n",
              " '2024_02_23__SKRE__ABF__2024-02-27.csv',\n",
              " '2024_02_23__SLEI__ABF__2024-02-27.csv',\n",
              " '2024_02_26__SDAL__SPF__2024-02-27.csv',\n",
              " '2024_02_23__SKLU__WST__2024-02-27.csv',\n",
              " '2024_02_26__SWU$__SPF__2024-02-27.csv',\n",
              " '2024_02_23__SLAA__ABF__2024-02-27.csv',\n",
              " '2024_02_23__SBEY__ABF__2024-02-27.csv']"
            ]
          },
          "metadata": {},
          "execution_count": 3
        }
      ]
    },
    {
      "cell_type": "code",
      "source": [
        "meta_file = '/content/Deloitte-Quantum-challenge-main/river-meta-data.csv'\n",
        "weather_file = '/content/Deloitte-Quantum-challenge-main/weather_data.csv'"
      ],
      "metadata": {
        "id": "wrl4VulheNcT"
      },
      "execution_count": 4,
      "outputs": []
    },
    {
      "cell_type": "markdown",
      "source": [
        "Creating a csv for river data"
      ],
      "metadata": {
        "id": "AZc-kwX__bas"
      }
    },
    {
      "cell_type": "code",
      "source": [
        "meta_data = pd.read_csv(meta_file)\n",
        "meta_data.head()"
      ],
      "metadata": {
        "id": "BR1nkJVnej7s",
        "colab": {
          "base_uri": "https://localhost:8080/",
          "height": 206
        },
        "outputId": "a954de3c-f119-459c-a974-228e98c84150"
      },
      "execution_count": 5,
      "outputs": [
        {
          "output_type": "execute_result",
          "data": {
            "text/plain": [
              "                      Station   Latitude  Longitude     ID         Phenomenon  \\\n",
              "0     Beyenburg (Ablaufpegel)  51.250317   7.294208   SBEY   water-level [cm]   \n",
              "1     Beyenburg (Ablaufpegel)  51.250317   7.294208   SBEY   discharge [m3/s]   \n",
              "2  Herbringhauser Talsperre H  51.221640   7.271520  SHT$        volume [hm3]   \n",
              "3  Herbringhauser Talsperre H  51.221640   7.271520  SHT$   fill-level [müNN]   \n",
              "4                Kluserbrücke  51.255604   7.158556   SKLU   water-level [cm]   \n",
              "\n",
              "        Start         End                              File-name  \n",
              "0  09.01.2012  23.02.2024  2024_02_23__SBEY__ABF__2024-02-27.CSV  \n",
              "1  01.01.2007  23.02.2024  2024_02_23__SBEY__WST__2024-02-27.CSV  \n",
              "2  01.11.2006  26.02.2024  2024_02_26__SHT$__SPI__2024-02-27.CSV  \n",
              "3  01.11.2014  26.02.2024  2024_02_26__SHT$__SPF__2024-02-27.CSV  \n",
              "4  27.10.1934  23.02.2024  2024_02_23__SKLU__WST__2024-02-27.CSV  "
            ],
            "text/html": [
              "\n",
              "  <div id=\"df-d715e867-d9ea-41c4-aff8-30c8677d3494\" class=\"colab-df-container\">\n",
              "    <div>\n",
              "<style scoped>\n",
              "    .dataframe tbody tr th:only-of-type {\n",
              "        vertical-align: middle;\n",
              "    }\n",
              "\n",
              "    .dataframe tbody tr th {\n",
              "        vertical-align: top;\n",
              "    }\n",
              "\n",
              "    .dataframe thead th {\n",
              "        text-align: right;\n",
              "    }\n",
              "</style>\n",
              "<table border=\"1\" class=\"dataframe\">\n",
              "  <thead>\n",
              "    <tr style=\"text-align: right;\">\n",
              "      <th></th>\n",
              "      <th>Station</th>\n",
              "      <th>Latitude</th>\n",
              "      <th>Longitude</th>\n",
              "      <th>ID</th>\n",
              "      <th>Phenomenon</th>\n",
              "      <th>Start</th>\n",
              "      <th>End</th>\n",
              "      <th>File-name</th>\n",
              "    </tr>\n",
              "  </thead>\n",
              "  <tbody>\n",
              "    <tr>\n",
              "      <th>0</th>\n",
              "      <td>Beyenburg (Ablaufpegel)</td>\n",
              "      <td>51.250317</td>\n",
              "      <td>7.294208</td>\n",
              "      <td>SBEY</td>\n",
              "      <td>water-level [cm]</td>\n",
              "      <td>09.01.2012</td>\n",
              "      <td>23.02.2024</td>\n",
              "      <td>2024_02_23__SBEY__ABF__2024-02-27.CSV</td>\n",
              "    </tr>\n",
              "    <tr>\n",
              "      <th>1</th>\n",
              "      <td>Beyenburg (Ablaufpegel)</td>\n",
              "      <td>51.250317</td>\n",
              "      <td>7.294208</td>\n",
              "      <td>SBEY</td>\n",
              "      <td>discharge [m3/s]</td>\n",
              "      <td>01.01.2007</td>\n",
              "      <td>23.02.2024</td>\n",
              "      <td>2024_02_23__SBEY__WST__2024-02-27.CSV</td>\n",
              "    </tr>\n",
              "    <tr>\n",
              "      <th>2</th>\n",
              "      <td>Herbringhauser Talsperre H</td>\n",
              "      <td>51.221640</td>\n",
              "      <td>7.271520</td>\n",
              "      <td>SHT$</td>\n",
              "      <td>volume [hm3]</td>\n",
              "      <td>01.11.2006</td>\n",
              "      <td>26.02.2024</td>\n",
              "      <td>2024_02_26__SHT$__SPI__2024-02-27.CSV</td>\n",
              "    </tr>\n",
              "    <tr>\n",
              "      <th>3</th>\n",
              "      <td>Herbringhauser Talsperre H</td>\n",
              "      <td>51.221640</td>\n",
              "      <td>7.271520</td>\n",
              "      <td>SHT$</td>\n",
              "      <td>fill-level [müNN]</td>\n",
              "      <td>01.11.2014</td>\n",
              "      <td>26.02.2024</td>\n",
              "      <td>2024_02_26__SHT$__SPF__2024-02-27.CSV</td>\n",
              "    </tr>\n",
              "    <tr>\n",
              "      <th>4</th>\n",
              "      <td>Kluserbrücke</td>\n",
              "      <td>51.255604</td>\n",
              "      <td>7.158556</td>\n",
              "      <td>SKLU</td>\n",
              "      <td>water-level [cm]</td>\n",
              "      <td>27.10.1934</td>\n",
              "      <td>23.02.2024</td>\n",
              "      <td>2024_02_23__SKLU__WST__2024-02-27.CSV</td>\n",
              "    </tr>\n",
              "  </tbody>\n",
              "</table>\n",
              "</div>\n",
              "    <div class=\"colab-df-buttons\">\n",
              "\n",
              "  <div class=\"colab-df-container\">\n",
              "    <button class=\"colab-df-convert\" onclick=\"convertToInteractive('df-d715e867-d9ea-41c4-aff8-30c8677d3494')\"\n",
              "            title=\"Convert this dataframe to an interactive table.\"\n",
              "            style=\"display:none;\">\n",
              "\n",
              "  <svg xmlns=\"http://www.w3.org/2000/svg\" height=\"24px\" viewBox=\"0 -960 960 960\">\n",
              "    <path d=\"M120-120v-720h720v720H120Zm60-500h600v-160H180v160Zm220 220h160v-160H400v160Zm0 220h160v-160H400v160ZM180-400h160v-160H180v160Zm440 0h160v-160H620v160ZM180-180h160v-160H180v160Zm440 0h160v-160H620v160Z\"/>\n",
              "  </svg>\n",
              "    </button>\n",
              "\n",
              "  <style>\n",
              "    .colab-df-container {\n",
              "      display:flex;\n",
              "      gap: 12px;\n",
              "    }\n",
              "\n",
              "    .colab-df-convert {\n",
              "      background-color: #E8F0FE;\n",
              "      border: none;\n",
              "      border-radius: 50%;\n",
              "      cursor: pointer;\n",
              "      display: none;\n",
              "      fill: #1967D2;\n",
              "      height: 32px;\n",
              "      padding: 0 0 0 0;\n",
              "      width: 32px;\n",
              "    }\n",
              "\n",
              "    .colab-df-convert:hover {\n",
              "      background-color: #E2EBFA;\n",
              "      box-shadow: 0px 1px 2px rgba(60, 64, 67, 0.3), 0px 1px 3px 1px rgba(60, 64, 67, 0.15);\n",
              "      fill: #174EA6;\n",
              "    }\n",
              "\n",
              "    .colab-df-buttons div {\n",
              "      margin-bottom: 4px;\n",
              "    }\n",
              "\n",
              "    [theme=dark] .colab-df-convert {\n",
              "      background-color: #3B4455;\n",
              "      fill: #D2E3FC;\n",
              "    }\n",
              "\n",
              "    [theme=dark] .colab-df-convert:hover {\n",
              "      background-color: #434B5C;\n",
              "      box-shadow: 0px 1px 3px 1px rgba(0, 0, 0, 0.15);\n",
              "      filter: drop-shadow(0px 1px 2px rgba(0, 0, 0, 0.3));\n",
              "      fill: #FFFFFF;\n",
              "    }\n",
              "  </style>\n",
              "\n",
              "    <script>\n",
              "      const buttonEl =\n",
              "        document.querySelector('#df-d715e867-d9ea-41c4-aff8-30c8677d3494 button.colab-df-convert');\n",
              "      buttonEl.style.display =\n",
              "        google.colab.kernel.accessAllowed ? 'block' : 'none';\n",
              "\n",
              "      async function convertToInteractive(key) {\n",
              "        const element = document.querySelector('#df-d715e867-d9ea-41c4-aff8-30c8677d3494');\n",
              "        const dataTable =\n",
              "          await google.colab.kernel.invokeFunction('convertToInteractive',\n",
              "                                                    [key], {});\n",
              "        if (!dataTable) return;\n",
              "\n",
              "        const docLinkHtml = 'Like what you see? Visit the ' +\n",
              "          '<a target=\"_blank\" href=https://colab.research.google.com/notebooks/data_table.ipynb>data table notebook</a>'\n",
              "          + ' to learn more about interactive tables.';\n",
              "        element.innerHTML = '';\n",
              "        dataTable['output_type'] = 'display_data';\n",
              "        await google.colab.output.renderOutput(dataTable, element);\n",
              "        const docLink = document.createElement('div');\n",
              "        docLink.innerHTML = docLinkHtml;\n",
              "        element.appendChild(docLink);\n",
              "      }\n",
              "    </script>\n",
              "  </div>\n",
              "\n",
              "\n",
              "<div id=\"df-d215b403-8df4-4e76-aa4f-5f827fef592f\">\n",
              "  <button class=\"colab-df-quickchart\" onclick=\"quickchart('df-d215b403-8df4-4e76-aa4f-5f827fef592f')\"\n",
              "            title=\"Suggest charts\"\n",
              "            style=\"display:none;\">\n",
              "\n",
              "<svg xmlns=\"http://www.w3.org/2000/svg\" height=\"24px\"viewBox=\"0 0 24 24\"\n",
              "     width=\"24px\">\n",
              "    <g>\n",
              "        <path d=\"M19 3H5c-1.1 0-2 .9-2 2v14c0 1.1.9 2 2 2h14c1.1 0 2-.9 2-2V5c0-1.1-.9-2-2-2zM9 17H7v-7h2v7zm4 0h-2V7h2v10zm4 0h-2v-4h2v4z\"/>\n",
              "    </g>\n",
              "</svg>\n",
              "  </button>\n",
              "\n",
              "<style>\n",
              "  .colab-df-quickchart {\n",
              "      --bg-color: #E8F0FE;\n",
              "      --fill-color: #1967D2;\n",
              "      --hover-bg-color: #E2EBFA;\n",
              "      --hover-fill-color: #174EA6;\n",
              "      --disabled-fill-color: #AAA;\n",
              "      --disabled-bg-color: #DDD;\n",
              "  }\n",
              "\n",
              "  [theme=dark] .colab-df-quickchart {\n",
              "      --bg-color: #3B4455;\n",
              "      --fill-color: #D2E3FC;\n",
              "      --hover-bg-color: #434B5C;\n",
              "      --hover-fill-color: #FFFFFF;\n",
              "      --disabled-bg-color: #3B4455;\n",
              "      --disabled-fill-color: #666;\n",
              "  }\n",
              "\n",
              "  .colab-df-quickchart {\n",
              "    background-color: var(--bg-color);\n",
              "    border: none;\n",
              "    border-radius: 50%;\n",
              "    cursor: pointer;\n",
              "    display: none;\n",
              "    fill: var(--fill-color);\n",
              "    height: 32px;\n",
              "    padding: 0;\n",
              "    width: 32px;\n",
              "  }\n",
              "\n",
              "  .colab-df-quickchart:hover {\n",
              "    background-color: var(--hover-bg-color);\n",
              "    box-shadow: 0 1px 2px rgba(60, 64, 67, 0.3), 0 1px 3px 1px rgba(60, 64, 67, 0.15);\n",
              "    fill: var(--button-hover-fill-color);\n",
              "  }\n",
              "\n",
              "  .colab-df-quickchart-complete:disabled,\n",
              "  .colab-df-quickchart-complete:disabled:hover {\n",
              "    background-color: var(--disabled-bg-color);\n",
              "    fill: var(--disabled-fill-color);\n",
              "    box-shadow: none;\n",
              "  }\n",
              "\n",
              "  .colab-df-spinner {\n",
              "    border: 2px solid var(--fill-color);\n",
              "    border-color: transparent;\n",
              "    border-bottom-color: var(--fill-color);\n",
              "    animation:\n",
              "      spin 1s steps(1) infinite;\n",
              "  }\n",
              "\n",
              "  @keyframes spin {\n",
              "    0% {\n",
              "      border-color: transparent;\n",
              "      border-bottom-color: var(--fill-color);\n",
              "      border-left-color: var(--fill-color);\n",
              "    }\n",
              "    20% {\n",
              "      border-color: transparent;\n",
              "      border-left-color: var(--fill-color);\n",
              "      border-top-color: var(--fill-color);\n",
              "    }\n",
              "    30% {\n",
              "      border-color: transparent;\n",
              "      border-left-color: var(--fill-color);\n",
              "      border-top-color: var(--fill-color);\n",
              "      border-right-color: var(--fill-color);\n",
              "    }\n",
              "    40% {\n",
              "      border-color: transparent;\n",
              "      border-right-color: var(--fill-color);\n",
              "      border-top-color: var(--fill-color);\n",
              "    }\n",
              "    60% {\n",
              "      border-color: transparent;\n",
              "      border-right-color: var(--fill-color);\n",
              "    }\n",
              "    80% {\n",
              "      border-color: transparent;\n",
              "      border-right-color: var(--fill-color);\n",
              "      border-bottom-color: var(--fill-color);\n",
              "    }\n",
              "    90% {\n",
              "      border-color: transparent;\n",
              "      border-bottom-color: var(--fill-color);\n",
              "    }\n",
              "  }\n",
              "</style>\n",
              "\n",
              "  <script>\n",
              "    async function quickchart(key) {\n",
              "      const quickchartButtonEl =\n",
              "        document.querySelector('#' + key + ' button');\n",
              "      quickchartButtonEl.disabled = true;  // To prevent multiple clicks.\n",
              "      quickchartButtonEl.classList.add('colab-df-spinner');\n",
              "      try {\n",
              "        const charts = await google.colab.kernel.invokeFunction(\n",
              "            'suggestCharts', [key], {});\n",
              "      } catch (error) {\n",
              "        console.error('Error during call to suggestCharts:', error);\n",
              "      }\n",
              "      quickchartButtonEl.classList.remove('colab-df-spinner');\n",
              "      quickchartButtonEl.classList.add('colab-df-quickchart-complete');\n",
              "    }\n",
              "    (() => {\n",
              "      let quickchartButtonEl =\n",
              "        document.querySelector('#df-d215b403-8df4-4e76-aa4f-5f827fef592f button');\n",
              "      quickchartButtonEl.style.display =\n",
              "        google.colab.kernel.accessAllowed ? 'block' : 'none';\n",
              "    })();\n",
              "  </script>\n",
              "</div>\n",
              "\n",
              "    </div>\n",
              "  </div>\n"
            ],
            "application/vnd.google.colaboratory.intrinsic+json": {
              "type": "dataframe",
              "variable_name": "meta_data",
              "summary": "{\n  \"name\": \"meta_data\",\n  \"rows\": 18,\n  \"fields\": [\n    {\n      \"column\": \"Station\",\n      \"properties\": {\n        \"dtype\": \"string\",\n        \"num_unique_values\": 9,\n        \"samples\": [\n          \"(Stausee) Beyenburg\",\n          \"Herbringhauser Talsperre H\",\n          \"Leimbach\"\n        ],\n        \"semantic_type\": \"\",\n        \"description\": \"\"\n      }\n    },\n    {\n      \"column\": \"Latitude\",\n      \"properties\": {\n        \"dtype\": \"number\",\n        \"std\": 0.02796722930377174,\n        \"min\": 51.19849529,\n        \"max\": 51.28109889,\n        \"num_unique_values\": 9,\n        \"samples\": [\n          51.24918673,\n          51.22163986,\n          51.28109889\n        ],\n        \"semantic_type\": \"\",\n        \"description\": \"\"\n      }\n    },\n    {\n      \"column\": \"Longitude\",\n      \"properties\": {\n        \"dtype\": \"number\",\n        \"std\": 0.05330949018030651,\n        \"min\": 7.158556179,\n        \"max\": 7.307577666,\n        \"num_unique_values\": 9,\n        \"samples\": [\n          7.299492518,\n          7.271519545,\n          7.191461179\n        ],\n        \"semantic_type\": \"\",\n        \"description\": \"\"\n      }\n    },\n    {\n      \"column\": \"ID\",\n      \"properties\": {\n        \"dtype\": \"string\",\n        \"num_unique_values\": 9,\n        \"samples\": [\n          \"SBY$\",\n          \"SHT$ \",\n          \"SLEI\"\n        ],\n        \"semantic_type\": \"\",\n        \"description\": \"\"\n      }\n    },\n    {\n      \"column\": \"Phenomenon\",\n      \"properties\": {\n        \"dtype\": \"category\",\n        \"num_unique_values\": 4,\n        \"samples\": [\n          \"discharge [m3/s]\",\n          \"fill-level [m\\u00fcNN]\",\n          \"water-level [cm]\"\n        ],\n        \"semantic_type\": \"\",\n        \"description\": \"\"\n      }\n    },\n    {\n      \"column\": \"Start\",\n      \"properties\": {\n        \"dtype\": \"string\",\n        \"num_unique_values\": 13,\n        \"samples\": [\n          \"11.01.2012\",\n          \"01.10.2007\",\n          \"09.01.2012\"\n        ],\n        \"semantic_type\": \"\",\n        \"description\": \"\"\n      }\n    },\n    {\n      \"column\": \"End\",\n      \"properties\": {\n        \"dtype\": \"object\",\n        \"num_unique_values\": 3,\n        \"samples\": [\n          \"23.02.2024\",\n          \"26.02.2024\",\n          \"28.12.2023\"\n        ],\n        \"semantic_type\": \"\",\n        \"description\": \"\"\n      }\n    },\n    {\n      \"column\": \"File-name\",\n      \"properties\": {\n        \"dtype\": \"string\",\n        \"num_unique_values\": 18,\n        \"samples\": [\n          \"2024_02_23__SBEY__ABF__2024-02-27.CSV\",\n          \"2024_02_23__SBEY__WST__2024-02-27.CSV\",\n          \"2024_02_23__SLAA__WST__2024-02-27.CSV\"\n        ],\n        \"semantic_type\": \"\",\n        \"description\": \"\"\n      }\n    }\n  ]\n}"
            }
          },
          "metadata": {},
          "execution_count": 5
        }
      ]
    },
    {
      "cell_type": "code",
      "source": [
        "river_ids = [0,6,8,10]\n",
        "river_dam_ids = [2,12,14,16]"
      ],
      "metadata": {
        "id": "xDzvTMizuy-o"
      },
      "execution_count": 6,
      "outputs": []
    },
    {
      "cell_type": "code",
      "source": [
        "river_name = []\n",
        "river_dam_name = []\n",
        "for i in range(len(meta_data)):\n",
        "  if i in river_ids:\n",
        "    river_name.append([meta_data['Station'][i],meta_data['File-name'][i],meta_data['File-name'][i+1]])\n",
        "  if i in river_dam_ids:\n",
        "    river_dam_name.append([meta_data['Station'][i],meta_data['File-name'][i],meta_data['File-name'][i+1]])\n",
        "\n",
        "print(river_name)\n",
        "print(river_dam_name)"
      ],
      "metadata": {
        "colab": {
          "base_uri": "https://localhost:8080/"
        },
        "id": "zubynCbTqzBT",
        "outputId": "92860d17-57b9-4d3b-e6ce-0fe019b50b43"
      },
      "execution_count": 7,
      "outputs": [
        {
          "output_type": "stream",
          "name": "stdout",
          "text": [
            "[['Beyenburg (Ablaufpegel)', '2024_02_23__SBEY__ABF__2024-02-27.CSV', '2024_02_23__SBEY__WST__2024-02-27.CSV'], ['Krebsöge', '2024_02_23__SKRE__WST__2024-02-27.CSV', '2024_02_23__SKRE__ABF__2024-02-27.CSV'], ['Laaken', '2024_02_23__SLAA__WST__2024-02-27.CSV', '2024_02_23__SLAA__ABF__2024-02-27.CSV'], ['Leimbach', '2024_02_23__SLEI__WST__2024-02-27.CSV', '2024_02_23__SLEI__ABF__2024-02-27.CSV']]\n",
            "[['Herbringhauser Talsperre H', '2024_02_26__SHT$__SPI__2024-02-27.CSV', '2024_02_26__SHT$__SPF__2024-02-27.CSV'], ['Stauanlage Dahlhausen', '2024_02_26__SDAL__SPI__2024-02-27.CSV', '2024_02_26__SDAL__SPF__2024-02-27.CSV'], ['(Stausee) Beyenburg', '2024_02_26__SBY$__SPI__2024-02-27.CSV', '2024_02_26__SBY$__SPF__2024-02-27.CSV'], ['Wupper-Talsperre', '2024_02_26__SWU$__SPI__2024-02-27.CSV', '2024_02_26__SWU$__SPF__2024-02-27.CSV']]\n"
          ]
        }
      ]
    },
    {
      "cell_type": "code",
      "source": [
        "!mkdir River_data"
      ],
      "metadata": {
        "id": "PtpNmqj5uUlX"
      },
      "execution_count": 12,
      "outputs": []
    },
    {
      "cell_type": "code",
      "source": [
        "# testing the average discharge rate data\n",
        "from datetime import datetime\n",
        "\n",
        "time_in_seconds1 = datetime(2020, 1, 1, 1, 0, 0)\n",
        "time_in_seconds2 = datetime(2020, 1, 1, 2, 0, 0)\n",
        "diff = time_in_seconds2 - time_in_seconds1\n",
        "print(diff.total_seconds())"
      ],
      "metadata": {
        "colab": {
          "base_uri": "https://localhost:8080/"
        },
        "id": "pE_g6T2EwbTU",
        "outputId": "cdf11a85-2c7c-45ca-fad1-a92ad5075f7f"
      },
      "execution_count": 22,
      "outputs": [
        {
          "output_type": "stream",
          "name": "stdout",
          "text": [
            "3600.0\n"
          ]
        }
      ]
    },
    {
      "cell_type": "code",
      "source": [
        "from tqdm import tqdm\n",
        "import math\n",
        "from datetime import datetime\n",
        "for i in range(len(river_name)):\n",
        "  print(river_name[i])\n",
        "  name = river_name[i][0]\n",
        "  water_level_file = river_name[i][1]\n",
        "  discharge_rate_file = river_name[i][2]\n",
        "  PATH = '/content/Deloitte-Quantum-challenge-main/River_Data/'\n",
        "  water_level_data = pd.read_csv(PATH+water_level_file[:-3]+\"csv\").values.tolist()\n",
        "  discharge_rate_data = pd.read_csv(PATH+discharge_rate_file[:-3]+\"csv\").values.tolist()\n",
        "  start_date = meta_data.loc[meta_data['Station'] == name]['Start'].values[0]\n",
        "  end_date = meta_data.loc[meta_data['Station'] == name]['End'].values[0]\n",
        "  print(start_date)\n",
        "  print(end_date)\n",
        "\n",
        "  new_river_data = []\n",
        "  new_river_discharge_data = []\n",
        "  prev_day = -1\n",
        "  prev_month = -1\n",
        "  prev_year = -1\n",
        "  expected_sum = 0\n",
        "  total_val = 0\n",
        "  for i in tqdm(range(len(water_level_data))):\n",
        "    data = water_level_data[i]\n",
        "    date = data[0].split('T')[0]\n",
        "    year = int(date.split('-')[0])\n",
        "    month = int(date.split('-')[1])\n",
        "    day = int(date.split('-')[2])\n",
        "\n",
        "    if year == prev_year and month == prev_month and day == prev_day:\n",
        "      expected_sum += float(data[1])\n",
        "      total_val += 1\n",
        "    else:\n",
        "      if i != 0:\n",
        "        average_val = expected_sum/total_val\n",
        "        new_river_data.append([prev_year,prev_month,prev_day,average_val])\n",
        "\n",
        "      expected_sum = float(data[1])\n",
        "      total_val = 1\n",
        "      prev_year = year\n",
        "      prev_month = month\n",
        "      prev_day = day\n",
        "\n",
        "\n",
        "  prev_day = -1\n",
        "  prev_month = -1\n",
        "  prev_year = -1\n",
        "  expected_sum = 0\n",
        "  total_val = 86400 # number of seconds per day\n",
        "  prev_hours = -1\n",
        "  prev_minutes = -1\n",
        "  prev_seconds = -1\n",
        "  prev_time_in_seconds = datetime(2020,1,1,0,0,0)\n",
        "  for i in tqdm(range(len(discharge_rate_data))):\n",
        "    data = discharge_rate_data[i]\n",
        "    date = data[0].split('T')[0]\n",
        "    year = int(date.split('-')[0])\n",
        "    month = int(date.split('-')[1])\n",
        "    day = int(date.split('-')[2])\n",
        "    time = data[0].split('T')[1]\n",
        "    hours = int(time.split(':')[0])\n",
        "    minutes = int(time.split(':')[1])\n",
        "    seconds = int(time.split(':')[2].split('Z')[0])\n",
        "    # datetime(year, month, day, hour, minute, second, microsecond)\n",
        "    time_in_seconds = datetime(year, month, day, hours, minutes, seconds)\n",
        "\n",
        "    value = 0\n",
        "    if (math.isnan(float(data[1]))):\n",
        "      value = 0\n",
        "    else:\n",
        "      value = float(data[1])\n",
        "\n",
        "    if year == prev_year and month == prev_month and day == prev_day:\n",
        "      seconds_difference = (time_in_seconds - prev_time_in_seconds).total_seconds()\n",
        "      new_value = value * seconds_difference\n",
        "      expected_sum += new_value\n",
        "\n",
        "    else:\n",
        "      if i != 0:\n",
        "        average_val = expected_sum/total_val\n",
        "        new_river_discharge_data.append([prev_year,prev_month,prev_day,average_val])\n",
        "\n",
        "      expected_sum = value\n",
        "      prev_year = year\n",
        "      prev_month = month\n",
        "      prev_day = day\n",
        "      prev_hours = hours\n",
        "      prev_minutes = minutes\n",
        "      prev_seconds = seconds\n",
        "      prev_time_in_seconds = datetime(prev_year, prev_month, prev_day, prev_hours, prev_minutes, prev_seconds)\n",
        "\n",
        "  # print(new_river_data)\n",
        "  df = pd.DataFrame(new_river_data, columns =['Year', 'Month', 'Day', 'Average Fill'], dtype = float)\n",
        "  df.to_csv(\"/content/River_data/\"+name+\"_river_level_data.csv\", index=False)\n",
        "\n",
        "\n",
        "  df = pd.DataFrame(new_river_discharge_data, columns =['Year', 'Month', 'Day', 'Average discharge'], dtype = float)\n",
        "  df.to_csv(\"/content/River_data/\"+name+\"_river_discharge_rate_data.csv\", index=False)\n"
      ],
      "metadata": {
        "colab": {
          "base_uri": "https://localhost:8080/"
        },
        "id": "Kpglr5fbojRN",
        "outputId": "8243fbbe-8b7c-46a0-ab8f-828cc183237c"
      },
      "execution_count": 25,
      "outputs": [
        {
          "output_type": "stream",
          "name": "stdout",
          "text": [
            "['Beyenburg (Ablaufpegel)', '2024_02_23__SBEY__ABF__2024-02-27.CSV', '2024_02_23__SBEY__WST__2024-02-27.CSV']\n",
            "09.01.2012\n",
            "23.02.2024\n"
          ]
        },
        {
          "output_type": "stream",
          "name": "stderr",
          "text": [
            "100%|██████████| 1560453/1560453 [00:03<00:00, 428499.20it/s]\n",
            "100%|██████████| 836920/836920 [00:04<00:00, 179649.51it/s]\n"
          ]
        },
        {
          "output_type": "stream",
          "name": "stdout",
          "text": [
            "['Krebsöge', '2024_02_23__SKRE__WST__2024-02-27.CSV', '2024_02_23__SKRE__ABF__2024-02-27.CSV']\n",
            "24.01.2011\n",
            "23.02.2024\n"
          ]
        },
        {
          "output_type": "stream",
          "name": "stderr",
          "text": [
            "100%|██████████| 462071/462071 [00:01<00:00, 431863.35it/s]\n",
            "100%|██████████| 772738/772738 [00:04<00:00, 190735.26it/s]\n"
          ]
        },
        {
          "output_type": "stream",
          "name": "stdout",
          "text": [
            "['Laaken', '2024_02_23__SLAA__WST__2024-02-27.CSV', '2024_02_23__SLAA__ABF__2024-02-27.CSV']\n",
            "01.11.2003\n",
            "23.02.2024\n"
          ]
        },
        {
          "output_type": "stream",
          "name": "stderr",
          "text": [
            "100%|██████████| 935229/935229 [00:03<00:00, 263824.59it/s]\n",
            "100%|██████████| 1919581/1919581 [00:10<00:00, 175582.62it/s]\n"
          ]
        },
        {
          "output_type": "stream",
          "name": "stdout",
          "text": [
            "['Leimbach', '2024_02_23__SLEI__WST__2024-02-27.CSV', '2024_02_23__SLEI__ABF__2024-02-27.CSV']\n",
            "01.10.2007\n",
            "23.02.2024\n"
          ]
        },
        {
          "output_type": "stream",
          "name": "stderr",
          "text": [
            "100%|██████████| 1009866/1009866 [00:02<00:00, 429245.57it/s]\n",
            "100%|██████████| 1118628/1118628 [00:06<00:00, 161049.21it/s]\n"
          ]
        }
      ]
    },
    {
      "cell_type": "code",
      "source": [
        "import shutil\n",
        "shutil.make_archive('River_data', 'zip', '/content/River_data')"
      ],
      "metadata": {
        "colab": {
          "base_uri": "https://localhost:8080/",
          "height": 35
        },
        "id": "o4XrjADv3II8",
        "outputId": "ce2f01af-878e-4878-e339-f49d934d949e"
      },
      "execution_count": 26,
      "outputs": [
        {
          "output_type": "execute_result",
          "data": {
            "text/plain": [
              "'/content/River_data.zip'"
            ],
            "application/vnd.google.colaboratory.intrinsic+json": {
              "type": "string"
            }
          },
          "metadata": {},
          "execution_count": 26
        }
      ]
    },
    {
      "cell_type": "code",
      "source": [],
      "metadata": {
        "id": "bM-03vVyCvnp"
      },
      "execution_count": null,
      "outputs": []
    }
  ]
}