{
  "nbformat": 4,
  "nbformat_minor": 0,
  "metadata": {
    "colab": {
      "provenance": []
    },
    "kernelspec": {
      "name": "python3",
      "display_name": "Python 3"
    },
    "language_info": {
      "name": "python"
    }
  },
  "cells": [
    {
      "cell_type": "code",
      "execution_count": 1,
      "metadata": {
        "colab": {
          "base_uri": "https://localhost:8080/"
        },
        "id": "r8uMptS8vRnK",
        "outputId": "c0df00d0-64f9-47c6-aeab-2cc6b2cdf98d"
      },
      "outputs": [
        {
          "output_type": "stream",
          "name": "stdout",
          "text": [
            "Archive:  /content/Deloitte-Quantum-challenge-main.zip\n",
            "d6b6b18d84c2a64966359a3230d49cb23bfe0c8c\n",
            "   creating: Deloitte-Quantum-challenge-main/\n",
            "  inflating: Deloitte-Quantum-challenge-main/Data_desc.pdf  \n",
            "  inflating: Deloitte-Quantum-challenge-main/LICENSE  \n",
            "   creating: Deloitte-Quantum-challenge-main/Plots/\n",
            "  inflating: Deloitte-Quantum-challenge-main/Plots/plot__KLU__WST__ABF.pdf  \n",
            "  inflating: Deloitte-Quantum-challenge-main/Plots/plot__SBEY__WST__ABF.pdf  \n",
            "  inflating: Deloitte-Quantum-challenge-main/Plots/plot__SBY$__SPI__SPF.pdf  \n",
            "  inflating: Deloitte-Quantum-challenge-main/Plots/plot__SDAL__SPI__SPF.pdf  \n",
            "  inflating: Deloitte-Quantum-challenge-main/Plots/plot__SHT$__SPI__SPF.pdf  \n",
            "  inflating: Deloitte-Quantum-challenge-main/Plots/plot__SKRE__WST__ABF.pdf  \n",
            "  inflating: Deloitte-Quantum-challenge-main/Plots/plot__SLAA__WST__ABF.pdf  \n",
            "  inflating: Deloitte-Quantum-challenge-main/Plots/plot__SLEI__WST__ABF.pdf  \n",
            "  inflating: Deloitte-Quantum-challenge-main/Plots/plot__SWU$__SPI__SPF.pdf  \n",
            "  inflating: Deloitte-Quantum-challenge-main/README.md  \n",
            "   creating: Deloitte-Quantum-challenge-main/River_Data/\n",
            "  inflating: Deloitte-Quantum-challenge-main/River_Data/2024_02_23__SBEY__ABF__2024-02-27.csv  \n",
            "  inflating: Deloitte-Quantum-challenge-main/River_Data/2024_02_23__SBEY__WST__2024-02-27.csv  \n",
            "  inflating: Deloitte-Quantum-challenge-main/River_Data/2024_02_23__SKLU__ABF__2024-02-27.csv  \n",
            "  inflating: Deloitte-Quantum-challenge-main/River_Data/2024_02_23__SKLU__WST__2024-02-27.csv  \n",
            "  inflating: Deloitte-Quantum-challenge-main/River_Data/2024_02_23__SKRE__ABF__2024-02-27.csv  \n",
            "  inflating: Deloitte-Quantum-challenge-main/River_Data/2024_02_23__SKRE__WST__2024-02-27.csv  \n",
            "  inflating: Deloitte-Quantum-challenge-main/River_Data/2024_02_23__SLAA__ABF__2024-02-27.csv  \n",
            "  inflating: Deloitte-Quantum-challenge-main/River_Data/2024_02_23__SLAA__WST__2024-02-27.csv  \n",
            "  inflating: Deloitte-Quantum-challenge-main/River_Data/2024_02_23__SLEI__ABF__2024-02-27.csv  \n",
            "  inflating: Deloitte-Quantum-challenge-main/River_Data/2024_02_23__SLEI__WST__2024-02-27.csv  \n",
            "  inflating: Deloitte-Quantum-challenge-main/River_Data/2024_02_26__SBY$__SPF__2024-02-27.csv  \n",
            "  inflating: Deloitte-Quantum-challenge-main/River_Data/2024_02_26__SBY$__SPI__2024-02-27.csv  \n",
            "  inflating: Deloitte-Quantum-challenge-main/River_Data/2024_02_26__SDAL__SPF__2024-02-27.csv  \n",
            "  inflating: Deloitte-Quantum-challenge-main/River_Data/2024_02_26__SDAL__SPI__2024-02-27.csv  \n",
            "  inflating: Deloitte-Quantum-challenge-main/River_Data/2024_02_26__SHT$__SPF__2024-02-27.csv  \n",
            "  inflating: Deloitte-Quantum-challenge-main/River_Data/2024_02_26__SHT$__SPI__2024-02-27.csv  \n",
            "  inflating: Deloitte-Quantum-challenge-main/River_Data/2024_02_26__SWU$__SPF__2024-02-27.csv  \n",
            "  inflating: Deloitte-Quantum-challenge-main/River_Data/2024_02_26__SWU$__SPI__2024-02-27.csv  \n",
            "  inflating: Deloitte-Quantum-challenge-main/river-meta-data.csv  \n",
            "  inflating: Deloitte-Quantum-challenge-main/weather_data.csv  \n"
          ]
        }
      ],
      "source": [
        "!unzip /content/Deloitte-Quantum-challenge-main.zip"
      ]
    },
    {
      "cell_type": "code",
      "source": [
        "!unzip /content/River_data.zip"
      ],
      "metadata": {
        "colab": {
          "base_uri": "https://localhost:8080/"
        },
        "id": "XxP8JrqfyNRM",
        "outputId": "eaff0c69-5faa-4e53-fad5-839bdd09b4b3"
      },
      "execution_count": 2,
      "outputs": [
        {
          "output_type": "stream",
          "name": "stdout",
          "text": [
            "Archive:  /content/River_data.zip\n",
            "   creating: .ipynb_checkpoints/\n",
            "  inflating: Beyenburg (Ablaufpegel)_river_discharge_rate_data.csv  \n",
            "  inflating: Beyenburg (Ablaufpegel)_river_level_data.csv  \n",
            "  inflating: Laaken_river_level_data.csv  \n",
            "  inflating: Leimbach_river_discharge_rate_data.csv  \n",
            "  inflating: Krebsöge_river_level_data.csv  \n",
            "  inflating: Laaken_river_discharge_rate_data.csv  \n",
            "  inflating: Leimbach_river_level_data.csv  \n",
            "  inflating: Krebsöge_river_discharge_rate_data.csv  \n"
          ]
        }
      ]
    },
    {
      "cell_type": "code",
      "source": [
        "!unzip /content/River_dam_data.zip"
      ],
      "metadata": {
        "colab": {
          "base_uri": "https://localhost:8080/"
        },
        "id": "xo0P1R2C2DrK",
        "outputId": "82fc2e11-5434-4368-b2e0-2385f34c5f12"
      },
      "execution_count": 78,
      "outputs": [
        {
          "output_type": "stream",
          "name": "stdout",
          "text": [
            "Archive:  /content/River_dam_data.zip\n",
            "  inflating: Wupper-Talsperre_river_dam_fill_level_data.csv  \n",
            "  inflating: Wupper-Talsperre_river_dam_volume_data.csv  \n",
            "  inflating: Stauanlage Dahlhausen_river_dam_volume_data.csv  \n",
            "  inflating: Herbringhauser Talsperre H_river_dam_fill_level_data.csv  \n",
            "  inflating: (Stausee) Beyenburg_river_dam_fill_level_data.csv  \n",
            "  inflating: (Stausee) Beyenburg_river_dam_volume_data.csv  \n",
            "  inflating: Herbringhauser Talsperre H_river_dam_volume_data.csv  \n",
            "  inflating: Stauanlage Dahlhausen_river_dam_fill_level_data.csv  \n"
          ]
        }
      ]
    },
    {
      "cell_type": "code",
      "source": [
        "import numpy as np\n",
        "import pandas as pd\n",
        "from datetime import date, timedelta"
      ],
      "metadata": {
        "id": "KSUVVFF5yayv"
      },
      "execution_count": 1,
      "outputs": []
    },
    {
      "cell_type": "code",
      "source": [
        "river_meta_data = pd.read_csv('/content/Deloitte-Quantum-challenge-main/river-meta-data.csv')\n",
        "river_meta_data.head()"
      ],
      "metadata": {
        "colab": {
          "base_uri": "https://localhost:8080/",
          "height": 206
        },
        "id": "Wp3xv8M9yjXs",
        "outputId": "2223a459-2376-4a38-9857-30e3dd511d3d"
      },
      "execution_count": 2,
      "outputs": [
        {
          "output_type": "execute_result",
          "data": {
            "text/plain": [
              "                      Station   Latitude  Longitude     ID         Phenomenon  \\\n",
              "0     Beyenburg (Ablaufpegel)  51.250317   7.294208   SBEY   water-level [cm]   \n",
              "1     Beyenburg (Ablaufpegel)  51.250317   7.294208   SBEY   discharge [m3/s]   \n",
              "2  Herbringhauser Talsperre H  51.221640   7.271520  SHT$        volume [hm3]   \n",
              "3  Herbringhauser Talsperre H  51.221640   7.271520  SHT$   fill-level [müNN]   \n",
              "4                Kluserbrücke  51.255604   7.158556   SKLU   water-level [cm]   \n",
              "\n",
              "        Start         End                              File-name  \n",
              "0  09.01.2012  23.02.2024  2024_02_23__SBEY__ABF__2024-02-27.CSV  \n",
              "1  01.01.2007  23.02.2024  2024_02_23__SBEY__WST__2024-02-27.CSV  \n",
              "2  01.11.2006  26.02.2024  2024_02_26__SHT$__SPI__2024-02-27.CSV  \n",
              "3  01.11.2014  26.02.2024  2024_02_26__SHT$__SPF__2024-02-27.CSV  \n",
              "4  27.10.1934  23.02.2024  2024_02_23__SKLU__WST__2024-02-27.CSV  "
            ],
            "text/html": [
              "\n",
              "  <div id=\"df-a7673e0c-8e7e-473e-a6a0-ff036f99cd3b\" class=\"colab-df-container\">\n",
              "    <div>\n",
              "<style scoped>\n",
              "    .dataframe tbody tr th:only-of-type {\n",
              "        vertical-align: middle;\n",
              "    }\n",
              "\n",
              "    .dataframe tbody tr th {\n",
              "        vertical-align: top;\n",
              "    }\n",
              "\n",
              "    .dataframe thead th {\n",
              "        text-align: right;\n",
              "    }\n",
              "</style>\n",
              "<table border=\"1\" class=\"dataframe\">\n",
              "  <thead>\n",
              "    <tr style=\"text-align: right;\">\n",
              "      <th></th>\n",
              "      <th>Station</th>\n",
              "      <th>Latitude</th>\n",
              "      <th>Longitude</th>\n",
              "      <th>ID</th>\n",
              "      <th>Phenomenon</th>\n",
              "      <th>Start</th>\n",
              "      <th>End</th>\n",
              "      <th>File-name</th>\n",
              "    </tr>\n",
              "  </thead>\n",
              "  <tbody>\n",
              "    <tr>\n",
              "      <th>0</th>\n",
              "      <td>Beyenburg (Ablaufpegel)</td>\n",
              "      <td>51.250317</td>\n",
              "      <td>7.294208</td>\n",
              "      <td>SBEY</td>\n",
              "      <td>water-level [cm]</td>\n",
              "      <td>09.01.2012</td>\n",
              "      <td>23.02.2024</td>\n",
              "      <td>2024_02_23__SBEY__ABF__2024-02-27.CSV</td>\n",
              "    </tr>\n",
              "    <tr>\n",
              "      <th>1</th>\n",
              "      <td>Beyenburg (Ablaufpegel)</td>\n",
              "      <td>51.250317</td>\n",
              "      <td>7.294208</td>\n",
              "      <td>SBEY</td>\n",
              "      <td>discharge [m3/s]</td>\n",
              "      <td>01.01.2007</td>\n",
              "      <td>23.02.2024</td>\n",
              "      <td>2024_02_23__SBEY__WST__2024-02-27.CSV</td>\n",
              "    </tr>\n",
              "    <tr>\n",
              "      <th>2</th>\n",
              "      <td>Herbringhauser Talsperre H</td>\n",
              "      <td>51.221640</td>\n",
              "      <td>7.271520</td>\n",
              "      <td>SHT$</td>\n",
              "      <td>volume [hm3]</td>\n",
              "      <td>01.11.2006</td>\n",
              "      <td>26.02.2024</td>\n",
              "      <td>2024_02_26__SHT$__SPI__2024-02-27.CSV</td>\n",
              "    </tr>\n",
              "    <tr>\n",
              "      <th>3</th>\n",
              "      <td>Herbringhauser Talsperre H</td>\n",
              "      <td>51.221640</td>\n",
              "      <td>7.271520</td>\n",
              "      <td>SHT$</td>\n",
              "      <td>fill-level [müNN]</td>\n",
              "      <td>01.11.2014</td>\n",
              "      <td>26.02.2024</td>\n",
              "      <td>2024_02_26__SHT$__SPF__2024-02-27.CSV</td>\n",
              "    </tr>\n",
              "    <tr>\n",
              "      <th>4</th>\n",
              "      <td>Kluserbrücke</td>\n",
              "      <td>51.255604</td>\n",
              "      <td>7.158556</td>\n",
              "      <td>SKLU</td>\n",
              "      <td>water-level [cm]</td>\n",
              "      <td>27.10.1934</td>\n",
              "      <td>23.02.2024</td>\n",
              "      <td>2024_02_23__SKLU__WST__2024-02-27.CSV</td>\n",
              "    </tr>\n",
              "  </tbody>\n",
              "</table>\n",
              "</div>\n",
              "    <div class=\"colab-df-buttons\">\n",
              "\n",
              "  <div class=\"colab-df-container\">\n",
              "    <button class=\"colab-df-convert\" onclick=\"convertToInteractive('df-a7673e0c-8e7e-473e-a6a0-ff036f99cd3b')\"\n",
              "            title=\"Convert this dataframe to an interactive table.\"\n",
              "            style=\"display:none;\">\n",
              "\n",
              "  <svg xmlns=\"http://www.w3.org/2000/svg\" height=\"24px\" viewBox=\"0 -960 960 960\">\n",
              "    <path d=\"M120-120v-720h720v720H120Zm60-500h600v-160H180v160Zm220 220h160v-160H400v160Zm0 220h160v-160H400v160ZM180-400h160v-160H180v160Zm440 0h160v-160H620v160ZM180-180h160v-160H180v160Zm440 0h160v-160H620v160Z\"/>\n",
              "  </svg>\n",
              "    </button>\n",
              "\n",
              "  <style>\n",
              "    .colab-df-container {\n",
              "      display:flex;\n",
              "      gap: 12px;\n",
              "    }\n",
              "\n",
              "    .colab-df-convert {\n",
              "      background-color: #E8F0FE;\n",
              "      border: none;\n",
              "      border-radius: 50%;\n",
              "      cursor: pointer;\n",
              "      display: none;\n",
              "      fill: #1967D2;\n",
              "      height: 32px;\n",
              "      padding: 0 0 0 0;\n",
              "      width: 32px;\n",
              "    }\n",
              "\n",
              "    .colab-df-convert:hover {\n",
              "      background-color: #E2EBFA;\n",
              "      box-shadow: 0px 1px 2px rgba(60, 64, 67, 0.3), 0px 1px 3px 1px rgba(60, 64, 67, 0.15);\n",
              "      fill: #174EA6;\n",
              "    }\n",
              "\n",
              "    .colab-df-buttons div {\n",
              "      margin-bottom: 4px;\n",
              "    }\n",
              "\n",
              "    [theme=dark] .colab-df-convert {\n",
              "      background-color: #3B4455;\n",
              "      fill: #D2E3FC;\n",
              "    }\n",
              "\n",
              "    [theme=dark] .colab-df-convert:hover {\n",
              "      background-color: #434B5C;\n",
              "      box-shadow: 0px 1px 3px 1px rgba(0, 0, 0, 0.15);\n",
              "      filter: drop-shadow(0px 1px 2px rgba(0, 0, 0, 0.3));\n",
              "      fill: #FFFFFF;\n",
              "    }\n",
              "  </style>\n",
              "\n",
              "    <script>\n",
              "      const buttonEl =\n",
              "        document.querySelector('#df-a7673e0c-8e7e-473e-a6a0-ff036f99cd3b button.colab-df-convert');\n",
              "      buttonEl.style.display =\n",
              "        google.colab.kernel.accessAllowed ? 'block' : 'none';\n",
              "\n",
              "      async function convertToInteractive(key) {\n",
              "        const element = document.querySelector('#df-a7673e0c-8e7e-473e-a6a0-ff036f99cd3b');\n",
              "        const dataTable =\n",
              "          await google.colab.kernel.invokeFunction('convertToInteractive',\n",
              "                                                    [key], {});\n",
              "        if (!dataTable) return;\n",
              "\n",
              "        const docLinkHtml = 'Like what you see? Visit the ' +\n",
              "          '<a target=\"_blank\" href=https://colab.research.google.com/notebooks/data_table.ipynb>data table notebook</a>'\n",
              "          + ' to learn more about interactive tables.';\n",
              "        element.innerHTML = '';\n",
              "        dataTable['output_type'] = 'display_data';\n",
              "        await google.colab.output.renderOutput(dataTable, element);\n",
              "        const docLink = document.createElement('div');\n",
              "        docLink.innerHTML = docLinkHtml;\n",
              "        element.appendChild(docLink);\n",
              "      }\n",
              "    </script>\n",
              "  </div>\n",
              "\n",
              "\n",
              "<div id=\"df-5e6b7a80-fd38-4962-9ba4-556c677a2e9c\">\n",
              "  <button class=\"colab-df-quickchart\" onclick=\"quickchart('df-5e6b7a80-fd38-4962-9ba4-556c677a2e9c')\"\n",
              "            title=\"Suggest charts\"\n",
              "            style=\"display:none;\">\n",
              "\n",
              "<svg xmlns=\"http://www.w3.org/2000/svg\" height=\"24px\"viewBox=\"0 0 24 24\"\n",
              "     width=\"24px\">\n",
              "    <g>\n",
              "        <path d=\"M19 3H5c-1.1 0-2 .9-2 2v14c0 1.1.9 2 2 2h14c1.1 0 2-.9 2-2V5c0-1.1-.9-2-2-2zM9 17H7v-7h2v7zm4 0h-2V7h2v10zm4 0h-2v-4h2v4z\"/>\n",
              "    </g>\n",
              "</svg>\n",
              "  </button>\n",
              "\n",
              "<style>\n",
              "  .colab-df-quickchart {\n",
              "      --bg-color: #E8F0FE;\n",
              "      --fill-color: #1967D2;\n",
              "      --hover-bg-color: #E2EBFA;\n",
              "      --hover-fill-color: #174EA6;\n",
              "      --disabled-fill-color: #AAA;\n",
              "      --disabled-bg-color: #DDD;\n",
              "  }\n",
              "\n",
              "  [theme=dark] .colab-df-quickchart {\n",
              "      --bg-color: #3B4455;\n",
              "      --fill-color: #D2E3FC;\n",
              "      --hover-bg-color: #434B5C;\n",
              "      --hover-fill-color: #FFFFFF;\n",
              "      --disabled-bg-color: #3B4455;\n",
              "      --disabled-fill-color: #666;\n",
              "  }\n",
              "\n",
              "  .colab-df-quickchart {\n",
              "    background-color: var(--bg-color);\n",
              "    border: none;\n",
              "    border-radius: 50%;\n",
              "    cursor: pointer;\n",
              "    display: none;\n",
              "    fill: var(--fill-color);\n",
              "    height: 32px;\n",
              "    padding: 0;\n",
              "    width: 32px;\n",
              "  }\n",
              "\n",
              "  .colab-df-quickchart:hover {\n",
              "    background-color: var(--hover-bg-color);\n",
              "    box-shadow: 0 1px 2px rgba(60, 64, 67, 0.3), 0 1px 3px 1px rgba(60, 64, 67, 0.15);\n",
              "    fill: var(--button-hover-fill-color);\n",
              "  }\n",
              "\n",
              "  .colab-df-quickchart-complete:disabled,\n",
              "  .colab-df-quickchart-complete:disabled:hover {\n",
              "    background-color: var(--disabled-bg-color);\n",
              "    fill: var(--disabled-fill-color);\n",
              "    box-shadow: none;\n",
              "  }\n",
              "\n",
              "  .colab-df-spinner {\n",
              "    border: 2px solid var(--fill-color);\n",
              "    border-color: transparent;\n",
              "    border-bottom-color: var(--fill-color);\n",
              "    animation:\n",
              "      spin 1s steps(1) infinite;\n",
              "  }\n",
              "\n",
              "  @keyframes spin {\n",
              "    0% {\n",
              "      border-color: transparent;\n",
              "      border-bottom-color: var(--fill-color);\n",
              "      border-left-color: var(--fill-color);\n",
              "    }\n",
              "    20% {\n",
              "      border-color: transparent;\n",
              "      border-left-color: var(--fill-color);\n",
              "      border-top-color: var(--fill-color);\n",
              "    }\n",
              "    30% {\n",
              "      border-color: transparent;\n",
              "      border-left-color: var(--fill-color);\n",
              "      border-top-color: var(--fill-color);\n",
              "      border-right-color: var(--fill-color);\n",
              "    }\n",
              "    40% {\n",
              "      border-color: transparent;\n",
              "      border-right-color: var(--fill-color);\n",
              "      border-top-color: var(--fill-color);\n",
              "    }\n",
              "    60% {\n",
              "      border-color: transparent;\n",
              "      border-right-color: var(--fill-color);\n",
              "    }\n",
              "    80% {\n",
              "      border-color: transparent;\n",
              "      border-right-color: var(--fill-color);\n",
              "      border-bottom-color: var(--fill-color);\n",
              "    }\n",
              "    90% {\n",
              "      border-color: transparent;\n",
              "      border-bottom-color: var(--fill-color);\n",
              "    }\n",
              "  }\n",
              "</style>\n",
              "\n",
              "  <script>\n",
              "    async function quickchart(key) {\n",
              "      const quickchartButtonEl =\n",
              "        document.querySelector('#' + key + ' button');\n",
              "      quickchartButtonEl.disabled = true;  // To prevent multiple clicks.\n",
              "      quickchartButtonEl.classList.add('colab-df-spinner');\n",
              "      try {\n",
              "        const charts = await google.colab.kernel.invokeFunction(\n",
              "            'suggestCharts', [key], {});\n",
              "      } catch (error) {\n",
              "        console.error('Error during call to suggestCharts:', error);\n",
              "      }\n",
              "      quickchartButtonEl.classList.remove('colab-df-spinner');\n",
              "      quickchartButtonEl.classList.add('colab-df-quickchart-complete');\n",
              "    }\n",
              "    (() => {\n",
              "      let quickchartButtonEl =\n",
              "        document.querySelector('#df-5e6b7a80-fd38-4962-9ba4-556c677a2e9c button');\n",
              "      quickchartButtonEl.style.display =\n",
              "        google.colab.kernel.accessAllowed ? 'block' : 'none';\n",
              "    })();\n",
              "  </script>\n",
              "</div>\n",
              "\n",
              "    </div>\n",
              "  </div>\n"
            ],
            "application/vnd.google.colaboratory.intrinsic+json": {
              "type": "dataframe",
              "variable_name": "river_meta_data",
              "summary": "{\n  \"name\": \"river_meta_data\",\n  \"rows\": 18,\n  \"fields\": [\n    {\n      \"column\": \"Station\",\n      \"properties\": {\n        \"dtype\": \"string\",\n        \"num_unique_values\": 9,\n        \"samples\": [\n          \"(Stausee) Beyenburg\",\n          \"Herbringhauser Talsperre H\",\n          \"Leimbach\"\n        ],\n        \"semantic_type\": \"\",\n        \"description\": \"\"\n      }\n    },\n    {\n      \"column\": \"Latitude\",\n      \"properties\": {\n        \"dtype\": \"number\",\n        \"std\": 0.02796722930377174,\n        \"min\": 51.19849529,\n        \"max\": 51.28109889,\n        \"num_unique_values\": 9,\n        \"samples\": [\n          51.24918673,\n          51.22163986,\n          51.28109889\n        ],\n        \"semantic_type\": \"\",\n        \"description\": \"\"\n      }\n    },\n    {\n      \"column\": \"Longitude\",\n      \"properties\": {\n        \"dtype\": \"number\",\n        \"std\": 0.05330949018030651,\n        \"min\": 7.158556179,\n        \"max\": 7.307577666,\n        \"num_unique_values\": 9,\n        \"samples\": [\n          7.299492518,\n          7.271519545,\n          7.191461179\n        ],\n        \"semantic_type\": \"\",\n        \"description\": \"\"\n      }\n    },\n    {\n      \"column\": \"ID\",\n      \"properties\": {\n        \"dtype\": \"string\",\n        \"num_unique_values\": 9,\n        \"samples\": [\n          \"SBY$\",\n          \"SHT$ \",\n          \"SLEI\"\n        ],\n        \"semantic_type\": \"\",\n        \"description\": \"\"\n      }\n    },\n    {\n      \"column\": \"Phenomenon\",\n      \"properties\": {\n        \"dtype\": \"category\",\n        \"num_unique_values\": 4,\n        \"samples\": [\n          \"discharge [m3/s]\",\n          \"fill-level [m\\u00fcNN]\",\n          \"water-level [cm]\"\n        ],\n        \"semantic_type\": \"\",\n        \"description\": \"\"\n      }\n    },\n    {\n      \"column\": \"Start\",\n      \"properties\": {\n        \"dtype\": \"string\",\n        \"num_unique_values\": 13,\n        \"samples\": [\n          \"11.01.2012\",\n          \"01.10.2007\",\n          \"09.01.2012\"\n        ],\n        \"semantic_type\": \"\",\n        \"description\": \"\"\n      }\n    },\n    {\n      \"column\": \"End\",\n      \"properties\": {\n        \"dtype\": \"object\",\n        \"num_unique_values\": 3,\n        \"samples\": [\n          \"23.02.2024\",\n          \"26.02.2024\",\n          \"28.12.2023\"\n        ],\n        \"semantic_type\": \"\",\n        \"description\": \"\"\n      }\n    },\n    {\n      \"column\": \"File-name\",\n      \"properties\": {\n        \"dtype\": \"string\",\n        \"num_unique_values\": 18,\n        \"samples\": [\n          \"2024_02_23__SBEY__ABF__2024-02-27.CSV\",\n          \"2024_02_23__SBEY__WST__2024-02-27.CSV\",\n          \"2024_02_23__SLAA__WST__2024-02-27.CSV\"\n        ],\n        \"semantic_type\": \"\",\n        \"description\": \"\"\n      }\n    }\n  ]\n}"
            }
          },
          "metadata": {},
          "execution_count": 2
        }
      ]
    },
    {
      "cell_type": "code",
      "source": [
        "river_ids = [0,6,8,10]\n",
        "river_dam_ids = [2,12,14,16]"
      ],
      "metadata": {
        "id": "A16-lyTlyrrd"
      },
      "execution_count": 3,
      "outputs": []
    },
    {
      "cell_type": "code",
      "source": [
        "river_name = []\n",
        "river_lat_long = []\n",
        "river_dam_name = []\n",
        "river_dam_lat_long = []\n",
        "for i in range(len(river_meta_data)):\n",
        "  if i in river_ids:\n",
        "    river_name.append(river_meta_data['Station'][i])\n",
        "    river_lat_long.append([river_meta_data['Latitude'][i],river_meta_data['Longitude'][i]])\n",
        "  if i in river_dam_ids:\n",
        "    river_dam_name.append(river_meta_data['Station'][i])\n",
        "    river_dam_lat_long.append([river_meta_data['Latitude'][i],river_meta_data['Longitude'][i]])\n",
        "\n",
        "print(river_name)\n",
        "print(river_dam_name)\n",
        "print(river_lat_long)\n",
        "print(river_dam_lat_long)"
      ],
      "metadata": {
        "colab": {
          "base_uri": "https://localhost:8080/"
        },
        "id": "QnE1lfory6nV",
        "outputId": "806b0bad-7e44-4196-908a-e9b3f3906258"
      },
      "execution_count": 4,
      "outputs": [
        {
          "output_type": "stream",
          "name": "stdout",
          "text": [
            "['Beyenburg (Ablaufpegel)', 'Krebsöge', 'Laaken', 'Leimbach']\n",
            "['Herbringhauser Talsperre H', 'Stauanlage Dahlhausen', '(Stausee) Beyenburg', 'Wupper-Talsperre']\n",
            "[[51.25031695, 7.294208378], [51.20040289, 7.299968717], [51.25486765, 7.235787738], [51.28109889, 7.191461179]]\n",
            "[[51.22163986, 7.271519545], [51.21119068, 7.307577666], [51.24918673, 7.299492518], [51.19849529, 7.303739196]]\n"
          ]
        }
      ]
    },
    {
      "cell_type": "code",
      "source": [
        "weather_data = pd.read_csv('/content/Deloitte-Quantum-challenge-main/weather_data.csv')\n",
        "weather_data.head()"
      ],
      "metadata": {
        "colab": {
          "base_uri": "https://localhost:8080/",
          "height": 206
        },
        "id": "OzNAgt4Cz6qo",
        "outputId": "13e56a5a-ed8e-4313-861f-2b840e9eeaf0"
      },
      "execution_count": 5,
      "outputs": [
        {
          "output_type": "execute_result",
          "data": {
            "text/plain": [
              "   STATIONS_ID  MESS_DATUM    RS       RS1       RS2       RS3       RS7  \\\n",
              "0         4741  1990-01-01   0.0  0.263696  0.891844  0.200000  3.097968   \n",
              "1         4741  1990-01-02   0.7  0.128740  0.200000  0.229184  1.039193   \n",
              "2         4741  1990-01-03   0.2  0.200000  0.140036  0.000000  0.701926   \n",
              "3         4741  1990-01-04   0.2  0.166448  0.000000  0.119894  0.200000   \n",
              "4         4741  1990-01-05   0.0  0.000000  0.000000  3.151644  0.748734   \n",
              "\n",
              "       RS14   RSF         STATIONS_NAME  LATITUDE  LONGITUDE  \n",
              "0  8.413475     6  Solingen-Hohenscheid  51.14004   7.092982  \n",
              "1  2.269998     6  Solingen-Hohenscheid  51.14004   7.092982  \n",
              "2  0.850585     6  Solingen-Hohenscheid  51.14004   7.092982  \n",
              "3  0.237581     6  Solingen-Hohenscheid  51.14004   7.092982  \n",
              "4  4.407581     6  Solingen-Hohenscheid  51.14004   7.092982  "
            ],
            "text/html": [
              "\n",
              "  <div id=\"df-2e6b8279-7e7d-4f6e-9fe5-8122fdcd3728\" class=\"colab-df-container\">\n",
              "    <div>\n",
              "<style scoped>\n",
              "    .dataframe tbody tr th:only-of-type {\n",
              "        vertical-align: middle;\n",
              "    }\n",
              "\n",
              "    .dataframe tbody tr th {\n",
              "        vertical-align: top;\n",
              "    }\n",
              "\n",
              "    .dataframe thead th {\n",
              "        text-align: right;\n",
              "    }\n",
              "</style>\n",
              "<table border=\"1\" class=\"dataframe\">\n",
              "  <thead>\n",
              "    <tr style=\"text-align: right;\">\n",
              "      <th></th>\n",
              "      <th>STATIONS_ID</th>\n",
              "      <th>MESS_DATUM</th>\n",
              "      <th>RS</th>\n",
              "      <th>RS1</th>\n",
              "      <th>RS2</th>\n",
              "      <th>RS3</th>\n",
              "      <th>RS7</th>\n",
              "      <th>RS14</th>\n",
              "      <th>RSF</th>\n",
              "      <th>STATIONS_NAME</th>\n",
              "      <th>LATITUDE</th>\n",
              "      <th>LONGITUDE</th>\n",
              "    </tr>\n",
              "  </thead>\n",
              "  <tbody>\n",
              "    <tr>\n",
              "      <th>0</th>\n",
              "      <td>4741</td>\n",
              "      <td>1990-01-01</td>\n",
              "      <td>0.0</td>\n",
              "      <td>0.263696</td>\n",
              "      <td>0.891844</td>\n",
              "      <td>0.200000</td>\n",
              "      <td>3.097968</td>\n",
              "      <td>8.413475</td>\n",
              "      <td>6</td>\n",
              "      <td>Solingen-Hohenscheid</td>\n",
              "      <td>51.14004</td>\n",
              "      <td>7.092982</td>\n",
              "    </tr>\n",
              "    <tr>\n",
              "      <th>1</th>\n",
              "      <td>4741</td>\n",
              "      <td>1990-01-02</td>\n",
              "      <td>0.7</td>\n",
              "      <td>0.128740</td>\n",
              "      <td>0.200000</td>\n",
              "      <td>0.229184</td>\n",
              "      <td>1.039193</td>\n",
              "      <td>2.269998</td>\n",
              "      <td>6</td>\n",
              "      <td>Solingen-Hohenscheid</td>\n",
              "      <td>51.14004</td>\n",
              "      <td>7.092982</td>\n",
              "    </tr>\n",
              "    <tr>\n",
              "      <th>2</th>\n",
              "      <td>4741</td>\n",
              "      <td>1990-01-03</td>\n",
              "      <td>0.2</td>\n",
              "      <td>0.200000</td>\n",
              "      <td>0.140036</td>\n",
              "      <td>0.000000</td>\n",
              "      <td>0.701926</td>\n",
              "      <td>0.850585</td>\n",
              "      <td>6</td>\n",
              "      <td>Solingen-Hohenscheid</td>\n",
              "      <td>51.14004</td>\n",
              "      <td>7.092982</td>\n",
              "    </tr>\n",
              "    <tr>\n",
              "      <th>3</th>\n",
              "      <td>4741</td>\n",
              "      <td>1990-01-04</td>\n",
              "      <td>0.2</td>\n",
              "      <td>0.166448</td>\n",
              "      <td>0.000000</td>\n",
              "      <td>0.119894</td>\n",
              "      <td>0.200000</td>\n",
              "      <td>0.237581</td>\n",
              "      <td>6</td>\n",
              "      <td>Solingen-Hohenscheid</td>\n",
              "      <td>51.14004</td>\n",
              "      <td>7.092982</td>\n",
              "    </tr>\n",
              "    <tr>\n",
              "      <th>4</th>\n",
              "      <td>4741</td>\n",
              "      <td>1990-01-05</td>\n",
              "      <td>0.0</td>\n",
              "      <td>0.000000</td>\n",
              "      <td>0.000000</td>\n",
              "      <td>3.151644</td>\n",
              "      <td>0.748734</td>\n",
              "      <td>4.407581</td>\n",
              "      <td>6</td>\n",
              "      <td>Solingen-Hohenscheid</td>\n",
              "      <td>51.14004</td>\n",
              "      <td>7.092982</td>\n",
              "    </tr>\n",
              "  </tbody>\n",
              "</table>\n",
              "</div>\n",
              "    <div class=\"colab-df-buttons\">\n",
              "\n",
              "  <div class=\"colab-df-container\">\n",
              "    <button class=\"colab-df-convert\" onclick=\"convertToInteractive('df-2e6b8279-7e7d-4f6e-9fe5-8122fdcd3728')\"\n",
              "            title=\"Convert this dataframe to an interactive table.\"\n",
              "            style=\"display:none;\">\n",
              "\n",
              "  <svg xmlns=\"http://www.w3.org/2000/svg\" height=\"24px\" viewBox=\"0 -960 960 960\">\n",
              "    <path d=\"M120-120v-720h720v720H120Zm60-500h600v-160H180v160Zm220 220h160v-160H400v160Zm0 220h160v-160H400v160ZM180-400h160v-160H180v160Zm440 0h160v-160H620v160ZM180-180h160v-160H180v160Zm440 0h160v-160H620v160Z\"/>\n",
              "  </svg>\n",
              "    </button>\n",
              "\n",
              "  <style>\n",
              "    .colab-df-container {\n",
              "      display:flex;\n",
              "      gap: 12px;\n",
              "    }\n",
              "\n",
              "    .colab-df-convert {\n",
              "      background-color: #E8F0FE;\n",
              "      border: none;\n",
              "      border-radius: 50%;\n",
              "      cursor: pointer;\n",
              "      display: none;\n",
              "      fill: #1967D2;\n",
              "      height: 32px;\n",
              "      padding: 0 0 0 0;\n",
              "      width: 32px;\n",
              "    }\n",
              "\n",
              "    .colab-df-convert:hover {\n",
              "      background-color: #E2EBFA;\n",
              "      box-shadow: 0px 1px 2px rgba(60, 64, 67, 0.3), 0px 1px 3px 1px rgba(60, 64, 67, 0.15);\n",
              "      fill: #174EA6;\n",
              "    }\n",
              "\n",
              "    .colab-df-buttons div {\n",
              "      margin-bottom: 4px;\n",
              "    }\n",
              "\n",
              "    [theme=dark] .colab-df-convert {\n",
              "      background-color: #3B4455;\n",
              "      fill: #D2E3FC;\n",
              "    }\n",
              "\n",
              "    [theme=dark] .colab-df-convert:hover {\n",
              "      background-color: #434B5C;\n",
              "      box-shadow: 0px 1px 3px 1px rgba(0, 0, 0, 0.15);\n",
              "      filter: drop-shadow(0px 1px 2px rgba(0, 0, 0, 0.3));\n",
              "      fill: #FFFFFF;\n",
              "    }\n",
              "  </style>\n",
              "\n",
              "    <script>\n",
              "      const buttonEl =\n",
              "        document.querySelector('#df-2e6b8279-7e7d-4f6e-9fe5-8122fdcd3728 button.colab-df-convert');\n",
              "      buttonEl.style.display =\n",
              "        google.colab.kernel.accessAllowed ? 'block' : 'none';\n",
              "\n",
              "      async function convertToInteractive(key) {\n",
              "        const element = document.querySelector('#df-2e6b8279-7e7d-4f6e-9fe5-8122fdcd3728');\n",
              "        const dataTable =\n",
              "          await google.colab.kernel.invokeFunction('convertToInteractive',\n",
              "                                                    [key], {});\n",
              "        if (!dataTable) return;\n",
              "\n",
              "        const docLinkHtml = 'Like what you see? Visit the ' +\n",
              "          '<a target=\"_blank\" href=https://colab.research.google.com/notebooks/data_table.ipynb>data table notebook</a>'\n",
              "          + ' to learn more about interactive tables.';\n",
              "        element.innerHTML = '';\n",
              "        dataTable['output_type'] = 'display_data';\n",
              "        await google.colab.output.renderOutput(dataTable, element);\n",
              "        const docLink = document.createElement('div');\n",
              "        docLink.innerHTML = docLinkHtml;\n",
              "        element.appendChild(docLink);\n",
              "      }\n",
              "    </script>\n",
              "  </div>\n",
              "\n",
              "\n",
              "<div id=\"df-eb23459f-9e74-4b7c-8675-60c23912cdd8\">\n",
              "  <button class=\"colab-df-quickchart\" onclick=\"quickchart('df-eb23459f-9e74-4b7c-8675-60c23912cdd8')\"\n",
              "            title=\"Suggest charts\"\n",
              "            style=\"display:none;\">\n",
              "\n",
              "<svg xmlns=\"http://www.w3.org/2000/svg\" height=\"24px\"viewBox=\"0 0 24 24\"\n",
              "     width=\"24px\">\n",
              "    <g>\n",
              "        <path d=\"M19 3H5c-1.1 0-2 .9-2 2v14c0 1.1.9 2 2 2h14c1.1 0 2-.9 2-2V5c0-1.1-.9-2-2-2zM9 17H7v-7h2v7zm4 0h-2V7h2v10zm4 0h-2v-4h2v4z\"/>\n",
              "    </g>\n",
              "</svg>\n",
              "  </button>\n",
              "\n",
              "<style>\n",
              "  .colab-df-quickchart {\n",
              "      --bg-color: #E8F0FE;\n",
              "      --fill-color: #1967D2;\n",
              "      --hover-bg-color: #E2EBFA;\n",
              "      --hover-fill-color: #174EA6;\n",
              "      --disabled-fill-color: #AAA;\n",
              "      --disabled-bg-color: #DDD;\n",
              "  }\n",
              "\n",
              "  [theme=dark] .colab-df-quickchart {\n",
              "      --bg-color: #3B4455;\n",
              "      --fill-color: #D2E3FC;\n",
              "      --hover-bg-color: #434B5C;\n",
              "      --hover-fill-color: #FFFFFF;\n",
              "      --disabled-bg-color: #3B4455;\n",
              "      --disabled-fill-color: #666;\n",
              "  }\n",
              "\n",
              "  .colab-df-quickchart {\n",
              "    background-color: var(--bg-color);\n",
              "    border: none;\n",
              "    border-radius: 50%;\n",
              "    cursor: pointer;\n",
              "    display: none;\n",
              "    fill: var(--fill-color);\n",
              "    height: 32px;\n",
              "    padding: 0;\n",
              "    width: 32px;\n",
              "  }\n",
              "\n",
              "  .colab-df-quickchart:hover {\n",
              "    background-color: var(--hover-bg-color);\n",
              "    box-shadow: 0 1px 2px rgba(60, 64, 67, 0.3), 0 1px 3px 1px rgba(60, 64, 67, 0.15);\n",
              "    fill: var(--button-hover-fill-color);\n",
              "  }\n",
              "\n",
              "  .colab-df-quickchart-complete:disabled,\n",
              "  .colab-df-quickchart-complete:disabled:hover {\n",
              "    background-color: var(--disabled-bg-color);\n",
              "    fill: var(--disabled-fill-color);\n",
              "    box-shadow: none;\n",
              "  }\n",
              "\n",
              "  .colab-df-spinner {\n",
              "    border: 2px solid var(--fill-color);\n",
              "    border-color: transparent;\n",
              "    border-bottom-color: var(--fill-color);\n",
              "    animation:\n",
              "      spin 1s steps(1) infinite;\n",
              "  }\n",
              "\n",
              "  @keyframes spin {\n",
              "    0% {\n",
              "      border-color: transparent;\n",
              "      border-bottom-color: var(--fill-color);\n",
              "      border-left-color: var(--fill-color);\n",
              "    }\n",
              "    20% {\n",
              "      border-color: transparent;\n",
              "      border-left-color: var(--fill-color);\n",
              "      border-top-color: var(--fill-color);\n",
              "    }\n",
              "    30% {\n",
              "      border-color: transparent;\n",
              "      border-left-color: var(--fill-color);\n",
              "      border-top-color: var(--fill-color);\n",
              "      border-right-color: var(--fill-color);\n",
              "    }\n",
              "    40% {\n",
              "      border-color: transparent;\n",
              "      border-right-color: var(--fill-color);\n",
              "      border-top-color: var(--fill-color);\n",
              "    }\n",
              "    60% {\n",
              "      border-color: transparent;\n",
              "      border-right-color: var(--fill-color);\n",
              "    }\n",
              "    80% {\n",
              "      border-color: transparent;\n",
              "      border-right-color: var(--fill-color);\n",
              "      border-bottom-color: var(--fill-color);\n",
              "    }\n",
              "    90% {\n",
              "      border-color: transparent;\n",
              "      border-bottom-color: var(--fill-color);\n",
              "    }\n",
              "  }\n",
              "</style>\n",
              "\n",
              "  <script>\n",
              "    async function quickchart(key) {\n",
              "      const quickchartButtonEl =\n",
              "        document.querySelector('#' + key + ' button');\n",
              "      quickchartButtonEl.disabled = true;  // To prevent multiple clicks.\n",
              "      quickchartButtonEl.classList.add('colab-df-spinner');\n",
              "      try {\n",
              "        const charts = await google.colab.kernel.invokeFunction(\n",
              "            'suggestCharts', [key], {});\n",
              "      } catch (error) {\n",
              "        console.error('Error during call to suggestCharts:', error);\n",
              "      }\n",
              "      quickchartButtonEl.classList.remove('colab-df-spinner');\n",
              "      quickchartButtonEl.classList.add('colab-df-quickchart-complete');\n",
              "    }\n",
              "    (() => {\n",
              "      let quickchartButtonEl =\n",
              "        document.querySelector('#df-eb23459f-9e74-4b7c-8675-60c23912cdd8 button');\n",
              "      quickchartButtonEl.style.display =\n",
              "        google.colab.kernel.accessAllowed ? 'block' : 'none';\n",
              "    })();\n",
              "  </script>\n",
              "</div>\n",
              "\n",
              "    </div>\n",
              "  </div>\n"
            ],
            "application/vnd.google.colaboratory.intrinsic+json": {
              "type": "dataframe",
              "variable_name": "weather_data",
              "summary": "{\n  \"name\": \"weather_data\",\n  \"rows\": 36553,\n  \"fields\": [\n    {\n      \"column\": \"STATIONS_ID\",\n      \"properties\": {\n        \"dtype\": \"number\",\n        \"std\": 412,\n        \"min\": 4741,\n        \"max\": 5717,\n        \"num_unique_values\": 3,\n        \"samples\": [\n          4741,\n          5483,\n          5717\n        ],\n        \"semantic_type\": \"\",\n        \"description\": \"\"\n      }\n    },\n    {\n      \"column\": \"MESS_DATUM\",\n      \"properties\": {\n        \"dtype\": \"object\",\n        \"num_unique_values\": 12418,\n        \"samples\": [\n          \"2018-12-31\",\n          \"2007-11-23\",\n          \"1992-04-30\"\n        ],\n        \"semantic_type\": \"\",\n        \"description\": \"\"\n      }\n    },\n    {\n      \"column\": \"  RS\",\n      \"properties\": {\n        \"dtype\": \"number\",\n        \"std\": 19.123063017555797,\n        \"min\": -999.0,\n        \"max\": 107.0,\n        \"num_unique_values\": 458,\n        \"samples\": [\n          20.6,\n          11.8,\n          25.8\n        ],\n        \"semantic_type\": \"\",\n        \"description\": \"\"\n      }\n    },\n    {\n      \"column\": \"RS1\",\n      \"properties\": {\n        \"dtype\": \"number\",\n        \"std\": 6.022644253726743,\n        \"min\": 0.0,\n        \"max\": 208.678640548162,\n        \"num_unique_values\": 23115,\n        \"samples\": [\n          0.9405402754470824,\n          10.683797049313783,\n          19.624080218693948\n        ],\n        \"semantic_type\": \"\",\n        \"description\": \"\"\n      }\n    },\n    {\n      \"column\": \"RS2\",\n      \"properties\": {\n        \"dtype\": \"number\",\n        \"std\": 6.081318797292442,\n        \"min\": 0.0,\n        \"max\": 285.9875101529798,\n        \"num_unique_values\": 23024,\n        \"samples\": [\n          0.2704104622950576,\n          1.5891048133671972,\n          5.326103152455855\n        ],\n        \"semantic_type\": \"\",\n        \"description\": \"\"\n      }\n    },\n    {\n      \"column\": \"RS3\",\n      \"properties\": {\n        \"dtype\": \"number\",\n        \"std\": 6.750544779891264,\n        \"min\": 0.0,\n        \"max\": 598.7012728376652,\n        \"num_unique_values\": 23028,\n        \"samples\": [\n          4.807613685363962,\n          4.442612284978953,\n          10.230423502232918\n        ],\n        \"semantic_type\": \"\",\n        \"description\": \"\"\n      }\n    },\n    {\n      \"column\": \"RS7\",\n      \"properties\": {\n        \"dtype\": \"number\",\n        \"std\": 5.8537644674285545,\n        \"min\": 0.0,\n        \"max\": 112.0779945076118,\n        \"num_unique_values\": 24925,\n        \"samples\": [\n          4.422062925362596,\n          3.606936086948167,\n          9.322052061013162\n        ],\n        \"semantic_type\": \"\",\n        \"description\": \"\"\n      }\n    },\n    {\n      \"column\": \"RS14\",\n      \"properties\": {\n        \"dtype\": \"number\",\n        \"std\": 6.382232125806223,\n        \"min\": 0.0,\n        \"max\": 292.55719179007576,\n        \"num_unique_values\": 25430,\n        \"samples\": [\n          2.83444936566794,\n          1.2261810182508546,\n          0.2104680603419071\n        ],\n        \"semantic_type\": \"\",\n        \"description\": \"\"\n      }\n    },\n    {\n      \"column\": \" RSF\",\n      \"properties\": {\n        \"dtype\": \"number\",\n        \"std\": 18,\n        \"min\": -999,\n        \"max\": 8,\n        \"num_unique_values\": 6,\n        \"samples\": [\n          6,\n          0,\n          -999\n        ],\n        \"semantic_type\": \"\",\n        \"description\": \"\"\n      }\n    },\n    {\n      \"column\": \"STATIONS_NAME\",\n      \"properties\": {\n        \"dtype\": \"category\",\n        \"num_unique_values\": 3,\n        \"samples\": [\n          \"Solingen-Hohenscheid\",\n          \"Wermelskirchen\",\n          \"Wuppertal-Buchenhofen\"\n        ],\n        \"semantic_type\": \"\",\n        \"description\": \"\"\n      }\n    },\n    {\n      \"column\": \"LATITUDE\",\n      \"properties\": {\n        \"dtype\": \"number\",\n        \"std\": 0.03834577877981739,\n        \"min\": 51.14004,\n        \"max\": 51.225598,\n        \"num_unique_values\": 3,\n        \"samples\": [\n          51.14004,\n          51.149817,\n          51.225598\n        ],\n        \"semantic_type\": \"\",\n        \"description\": \"\"\n      }\n    },\n    {\n      \"column\": \"LONGITUDE\",\n      \"properties\": {\n        \"dtype\": \"number\",\n        \"std\": 0.041721257201549594,\n        \"min\": 7.092982,\n        \"max\": 7.186723,\n        \"num_unique_values\": 3,\n        \"samples\": [\n          7.092982,\n          7.186723,\n          7.105176\n        ],\n        \"semantic_type\": \"\",\n        \"description\": \"\"\n      }\n    }\n  ]\n}"
            }
          },
          "metadata": {},
          "execution_count": 5
        }
      ]
    },
    {
      "cell_type": "code",
      "source": [
        "weather_data_list = weather_data.values.tolist()"
      ],
      "metadata": {
        "id": "hvXAZTP_1ZD7"
      },
      "execution_count": 6,
      "outputs": []
    },
    {
      "cell_type": "code",
      "source": [
        "weather_station = [4741,5483,5717]\n",
        "weather_station_4741 = []\n",
        "weather_station_5483 = []\n",
        "weather_station_5717 = []\n",
        "\n",
        "for i in range(len(weather_data_list)):\n",
        "  if(weather_data_list[i][0] == weather_station[0]):\n",
        "    weather_station_4741.append([weather_data_list[i][1],weather_data_list[i][2],weather_data_list[i][3],weather_data_list[i][4],weather_data_list[i][5],weather_data_list[i][6],weather_data_list[i][7],weather_data_list[i][8],weather_data_list[i][10],weather_data_list[i][11]])\n",
        "  elif(weather_data_list[i][0] == weather_station[1]):\n",
        "    weather_station_5483.append([weather_data_list[i][1],weather_data_list[i][2],weather_data_list[i][3],weather_data_list[i][4],weather_data_list[i][5],weather_data_list[i][6],weather_data_list[i][7],weather_data_list[i][8],weather_data_list[i][10],weather_data_list[i][11]])\n",
        "  elif(weather_data_list[i][0] == weather_station[2]):\n",
        "    weather_station_5717.append([weather_data_list[i][1],weather_data_list[i][2],weather_data_list[i][3],weather_data_list[i][4],weather_data_list[i][5],weather_data_list[i][6],weather_data_list[i][7],weather_data_list[i][8],weather_data_list[i][10],weather_data_list[i][11]])\n"
      ],
      "metadata": {
        "id": "b8woNu_E3kl9"
      },
      "execution_count": 7,
      "outputs": []
    },
    {
      "cell_type": "code",
      "source": [
        "river_fill_files = ['/content/Beyenburg (Ablaufpegel)_river_level_data.csv','/content/Krebsöge_river_level_data.csv','/content/Laaken_river_level_data.csv','/content/Leimbach_river_level_data.csv']"
      ],
      "metadata": {
        "id": "4T77aJOc8oG0"
      },
      "execution_count": 8,
      "outputs": []
    },
    {
      "cell_type": "code",
      "source": [
        "river_dam_files = ['/content/Herbringhauser Talsperre H_river_dam_fill_level_data.csv','/content/Stauanlage Dahlhausen_river_dam_fill_level_data.csv','/content/(Stausee) Beyenburg_river_dam_fill_level_data.csv','/content/Wupper-Talsperre_river_dam_fill_level_data.csv']\n"
      ],
      "metadata": {
        "id": "YoreHlGN9iKr"
      },
      "execution_count": 9,
      "outputs": []
    },
    {
      "cell_type": "code",
      "source": [
        "river1_data = pd.read_csv(river_fill_files[0])\n",
        "river2_data = pd.read_csv(river_fill_files[1])\n",
        "river3_data = pd.read_csv(river_fill_files[2])\n",
        "river4_data = pd.read_csv(river_fill_files[3])"
      ],
      "metadata": {
        "id": "iyFZFxZM-b97"
      },
      "execution_count": 10,
      "outputs": []
    },
    {
      "cell_type": "code",
      "source": [
        "river_dam1_data = pd.read_csv(river_dam_files[0])\n",
        "river_dam2_data = pd.read_csv(river_dam_files[1])\n",
        "river_dam3_data = pd.read_csv(river_dam_files[2])\n",
        "river_dam4_data = pd.read_csv(river_dam_files[3])"
      ],
      "metadata": {
        "id": "1mNqNy0wFxFp"
      },
      "execution_count": 11,
      "outputs": []
    },
    {
      "cell_type": "code",
      "source": [
        "complete_dates = []\n",
        "from datetime import date, timedelta\n",
        "\n",
        "#year,month,day\n",
        "start_date = date(1990, 1, 1)\n",
        "end_date = date(2023, 12, 31)    # perhaps date.now()\n",
        "\n",
        "delta = end_date - start_date   # returns timedelta\n",
        "\n",
        "for i in range(delta.days + 1):\n",
        "    day = start_date + timedelta(days=i)\n",
        "    complete_dates.append(day)\n",
        "\n",
        "print(complete_dates[0:5])\n",
        "print(complete_dates[0].year)"
      ],
      "metadata": {
        "id": "YLK1BtV1yA8e",
        "colab": {
          "base_uri": "https://localhost:8080/"
        },
        "outputId": "d807675d-dc66-4da2-9d08-b9454f693621"
      },
      "execution_count": 12,
      "outputs": [
        {
          "output_type": "stream",
          "name": "stdout",
          "text": [
            "[datetime.date(1990, 1, 1), datetime.date(1990, 1, 2), datetime.date(1990, 1, 3), datetime.date(1990, 1, 4), datetime.date(1990, 1, 5)]\n",
            "1990\n"
          ]
        }
      ]
    },
    {
      "cell_type": "code",
      "source": [
        "# We need {\n",
        "#           date_obj1: {\n",
        "#             river:{\n",
        "#                 1:{fill_value,lat,long},\n",
        "#                 2:{fill_value,lat,long},\n",
        "#              },\n",
        "#              dam:{\n",
        "#\n",
        "#                 1:{fill_value,lat,long},\n",
        "#                 2:{fill_value,lat,long},\n",
        "#              },\n",
        "#              weather:{\n",
        "#                 1:{rs1,rs2,...,lat,long},\n",
        "#                 2:{rs1,rs2,...,lat,long},\n",
        "#\n",
        "#              }\n",
        "#           } ,\n",
        "#           date_onj2: {...}\n",
        "#         }\n",
        "final_data_dict = {}\n",
        "for i in range(len(complete_dates)):\n",
        "  final_data_dict[complete_dates[i]] = {}\n",
        "  final_data_dict[complete_dates[i]]['river'] = {}\n",
        "  final_data_dict[complete_dates[i]]['dam'] = {}\n",
        "  final_data_dict[complete_dates[i]]['weather'] = {}\n",
        "  final_data_dict[complete_dates[i]]['river'][river_name[0]] = {}\n",
        "  final_data_dict[complete_dates[i]]['river'][river_name[1]] = {}\n",
        "  final_data_dict[complete_dates[i]]['river'][river_name[2]] = {}\n",
        "  final_data_dict[complete_dates[i]]['river'][river_name[3]] = {}\n",
        "  final_data_dict[complete_dates[i]]['dam'][river_dam_name[0]] = {}\n",
        "  final_data_dict[complete_dates[i]]['dam'][river_dam_name[1]] = {}\n",
        "  final_data_dict[complete_dates[i]]['dam'][river_dam_name[2]] = {}\n",
        "  final_data_dict[complete_dates[i]]['dam'][river_dam_name[3]] = {}\n",
        "  final_data_dict[complete_dates[i]]['weather'][str(weather_station[0])]={}\n",
        "  final_data_dict[complete_dates[i]]['weather'][str(weather_station[1])]={}\n",
        "  final_data_dict[complete_dates[i]]['weather'][str(weather_station[2])]={}"
      ],
      "metadata": {
        "id": "3FI6uuxSF4p7"
      },
      "execution_count": 13,
      "outputs": []
    },
    {
      "cell_type": "code",
      "source": [
        "print(final_data_dict.get(start_date))"
      ],
      "metadata": {
        "colab": {
          "base_uri": "https://localhost:8080/"
        },
        "id": "HWxQBHbd8QmL",
        "outputId": "1e94a1d5-518c-43ab-ba62-49964ebad325"
      },
      "execution_count": 14,
      "outputs": [
        {
          "output_type": "stream",
          "name": "stdout",
          "text": [
            "{'river': {'Beyenburg (Ablaufpegel)': {}, 'Krebsöge': {}, 'Laaken': {}, 'Leimbach': {}}, 'dam': {'Herbringhauser Talsperre H': {}, 'Stauanlage Dahlhausen': {}, '(Stausee) Beyenburg': {}, 'Wupper-Talsperre': {}}, 'weather': {'4741': {}, '5483': {}, '5717': {}}}\n"
          ]
        }
      ]
    },
    {
      "cell_type": "code",
      "source": [
        "for i in range(len(weather_station_4741)):\n",
        "  date_val = weather_station_4741[i][0]\n",
        "\n",
        "  date_val_year,date_val_month,date_val_day = date_val.split('-')\n",
        "  date_obj = date(int(date_val_year), int(date_val_month), int(date_val_day))\n",
        "  final_data_dict[date_obj]['weather'][str(weather_station[0])]['RS'] = weather_station_4741[i][1]\n",
        "  final_data_dict[date_obj]['weather'][str(weather_station[0])]['RS1'] = weather_station_4741[i][2]\n",
        "  final_data_dict[date_obj]['weather'][str(weather_station[0])]['RS2'] = weather_station_4741[i][3]\n",
        "  final_data_dict[date_obj]['weather'][str(weather_station[0])]['RS3'] = weather_station_4741[i][4]\n",
        "  final_data_dict[date_obj]['weather'][str(weather_station[0])]['RS7'] = weather_station_4741[i][5]\n",
        "  final_data_dict[date_obj]['weather'][str(weather_station[0])]['RS14'] = weather_station_4741[i][6]\n",
        "  final_data_dict[date_obj]['weather'][str(weather_station[0])]['RSF'] = weather_station_4741[i][7]\n",
        "\n",
        "  final_data_dict[date_obj]['weather'][str(weather_station[0])]['Lat'] = weather_station_4741[i][8]\n",
        "  final_data_dict[date_obj]['weather'][str(weather_station[0])]['Long'] = weather_station_4741[i][9]\n",
        "\n",
        "print(final_data_dict.get(start_date))"
      ],
      "metadata": {
        "colab": {
          "base_uri": "https://localhost:8080/"
        },
        "id": "ndiZLsaz-zx4",
        "outputId": "21065e10-32ab-4792-989f-dcc089cbb768"
      },
      "execution_count": 15,
      "outputs": [
        {
          "output_type": "stream",
          "name": "stdout",
          "text": [
            "{'river': {'Beyenburg (Ablaufpegel)': {}, 'Krebsöge': {}, 'Laaken': {}, 'Leimbach': {}}, 'dam': {'Herbringhauser Talsperre H': {}, 'Stauanlage Dahlhausen': {}, '(Stausee) Beyenburg': {}, 'Wupper-Talsperre': {}}, 'weather': {'4741': {'RS': 0.0, 'RS1': 0.2636962830860595, 'RS2': 0.8918441729782746, 'RS3': 0.2, 'RS7': 3.097967840408076, 'RS14': 8.41347532578988, 'RSF': 6, 'Lat': 51.14004, 'Long': 7.092982}, '5483': {}, '5717': {}}}\n"
          ]
        }
      ]
    },
    {
      "cell_type": "code",
      "source": [
        "for i in range(len(weather_station_5483)):\n",
        "  date_val = weather_station_5483[i][0]\n",
        "\n",
        "  date_val_year,date_val_month,date_val_day = date_val.split('-')\n",
        "  date_obj = date(int(date_val_year), int(date_val_month), int(date_val_day))\n",
        "  final_data_dict[date_obj]['weather'][str(weather_station[1])]['RS'] = weather_station_5483[i][1]\n",
        "  final_data_dict[date_obj]['weather'][str(weather_station[1])]['RS1'] = weather_station_5483[i][2]\n",
        "  final_data_dict[date_obj]['weather'][str(weather_station[1])]['RS2'] = weather_station_5483[i][3]\n",
        "  final_data_dict[date_obj]['weather'][str(weather_station[1])]['RS3'] = weather_station_5483[i][4]\n",
        "  final_data_dict[date_obj]['weather'][str(weather_station[1])]['RS7'] = weather_station_5483[i][5]\n",
        "  final_data_dict[date_obj]['weather'][str(weather_station[1])]['RS14'] = weather_station_5483[i][6]\n",
        "  final_data_dict[date_obj]['weather'][str(weather_station[1])]['RSF'] = weather_station_5483[i][7]\n",
        "\n",
        "  final_data_dict[date_obj]['weather'][str(weather_station[1])]['Lat'] = weather_station_5483[i][8]\n",
        "  final_data_dict[date_obj]['weather'][str(weather_station[1])]['Long'] = weather_station_5483[i][9]\n",
        "\n",
        "print(final_data_dict.get(start_date))"
      ],
      "metadata": {
        "colab": {
          "base_uri": "https://localhost:8080/"
        },
        "id": "DellQ8c38gdo",
        "outputId": "bf87e5eb-ad14-4809-f4bc-38463201cc8c"
      },
      "execution_count": 16,
      "outputs": [
        {
          "output_type": "stream",
          "name": "stdout",
          "text": [
            "{'river': {'Beyenburg (Ablaufpegel)': {}, 'Krebsöge': {}, 'Laaken': {}, 'Leimbach': {}}, 'dam': {'Herbringhauser Talsperre H': {}, 'Stauanlage Dahlhausen': {}, '(Stausee) Beyenburg': {}, 'Wupper-Talsperre': {}}, 'weather': {'4741': {'RS': 0.0, 'RS1': 0.2636962830860595, 'RS2': 0.8918441729782746, 'RS3': 0.2, 'RS7': 3.097967840408076, 'RS14': 8.41347532578988, 'RSF': 6, 'Lat': 51.14004, 'Long': 7.092982}, '5483': {'RS': 0.3, 'RS1': 0.09406528286717, 'RS2': 0.0, 'RS3': 0.1533292895166836, 'RS7': 1.663132480409251, 'RS14': 7.348551197333054, 'RSF': 4, 'Lat': 51.149817, 'Long': 7.186723}, '5717': {}}}\n"
          ]
        }
      ]
    },
    {
      "cell_type": "code",
      "source": [
        "for i in range(len(weather_station_5717)):\n",
        "  date_val = weather_station_5717[i][0]\n",
        "\n",
        "  date_val_year,date_val_month,date_val_day = date_val.split('-')\n",
        "  date_obj = date(int(date_val_year), int(date_val_month), int(date_val_day))\n",
        "  final_data_dict[date_obj]['weather'][str(weather_station[2])]['RS'] = weather_station_5717[i][1]\n",
        "  final_data_dict[date_obj]['weather'][str(weather_station[2])]['RS1'] = weather_station_5717[i][2]\n",
        "  final_data_dict[date_obj]['weather'][str(weather_station[2])]['RS2'] = weather_station_5717[i][3]\n",
        "  final_data_dict[date_obj]['weather'][str(weather_station[2])]['RS3'] = weather_station_5717[i][4]\n",
        "  final_data_dict[date_obj]['weather'][str(weather_station[2])]['RS7'] = weather_station_5717[i][5]\n",
        "  final_data_dict[date_obj]['weather'][str(weather_station[2])]['RS14'] = weather_station_5717[i][6]\n",
        "  final_data_dict[date_obj]['weather'][str(weather_station[2])]['RSF'] = weather_station_5717[i][7]\n",
        "\n",
        "  final_data_dict[date_obj]['weather'][str(weather_station[2])]['Lat'] = weather_station_5717[i][8]\n",
        "  final_data_dict[date_obj]['weather'][str(weather_station[2])]['Long'] = weather_station_5717[i][9]\n",
        "\n",
        "print(final_data_dict.get(start_date))"
      ],
      "metadata": {
        "id": "XW8aREgc9v8X",
        "colab": {
          "base_uri": "https://localhost:8080/"
        },
        "outputId": "a23397ff-2318-46c4-c630-3c30250ee80e"
      },
      "execution_count": 17,
      "outputs": [
        {
          "output_type": "stream",
          "name": "stdout",
          "text": [
            "{'river': {'Beyenburg (Ablaufpegel)': {}, 'Krebsöge': {}, 'Laaken': {}, 'Leimbach': {}}, 'dam': {'Herbringhauser Talsperre H': {}, 'Stauanlage Dahlhausen': {}, '(Stausee) Beyenburg': {}, 'Wupper-Talsperre': {}}, 'weather': {'4741': {'RS': 0.0, 'RS1': 0.2636962830860595, 'RS2': 0.8918441729782746, 'RS3': 0.2, 'RS7': 3.097967840408076, 'RS14': 8.41347532578988, 'RSF': 6, 'Lat': 51.14004, 'Long': 7.092982}, '5483': {'RS': 0.3, 'RS1': 0.09406528286717, 'RS2': 0.0, 'RS3': 0.1533292895166836, 'RS7': 1.663132480409251, 'RS14': 7.348551197333054, 'RSF': 4, 'Lat': 51.149817, 'Long': 7.186723}, '5717': {'RS': 0.1, 'RS1': 0.1027901147084698, 'RS2': 0.0812138492397264, 'RS3': 0.0, 'RS7': 0.453203994833308, 'RS14': 6.1172339595882335, 'RSF': 6, 'Lat': 51.225598, 'Long': 7.105176}}}\n"
          ]
        }
      ]
    },
    {
      "cell_type": "code",
      "source": [
        "#YYYY-MM-DD\n",
        "river1_data_list = river1_data.values.tolist()\n",
        "river2_data_list = river2_data.values.tolist()\n",
        "river3_data_list = river3_data.values.tolist()\n",
        "river4_data_list = river4_data.values.tolist()"
      ],
      "metadata": {
        "id": "q_p1AMoAtewO"
      },
      "execution_count": 18,
      "outputs": []
    },
    {
      "cell_type": "code",
      "source": [
        "river1_data"
      ],
      "metadata": {
        "colab": {
          "base_uri": "https://localhost:8080/",
          "height": 423
        },
        "id": "EtWP-dv-u5HG",
        "outputId": "e7073e32-181f-4c7d-f40e-647f076593ac"
      },
      "execution_count": 19,
      "outputs": [
        {
          "output_type": "execute_result",
          "data": {
            "text/plain": [
              "        Year  Month   Day  Average Fill\n",
              "0     2006.0   12.0  31.0      4.896200\n",
              "1     2007.0    1.0   1.0      6.523144\n",
              "2     2007.0    1.0   2.0      7.969255\n",
              "3     2007.0    1.0   3.0     10.077288\n",
              "4     2007.0    1.0   4.0     13.080835\n",
              "...      ...    ...   ...           ...\n",
              "6176  2024.0    2.0  17.0      7.173435\n",
              "6177  2024.0    2.0  18.0      9.014421\n",
              "6178  2024.0    2.0  19.0     11.946493\n",
              "6179  2024.0    2.0  20.0     12.994626\n",
              "6180  2024.0    2.0  21.0     15.389021\n",
              "\n",
              "[6181 rows x 4 columns]"
            ],
            "text/html": [
              "\n",
              "  <div id=\"df-343d66b7-260f-46f4-90d8-9c0d990db437\" class=\"colab-df-container\">\n",
              "    <div>\n",
              "<style scoped>\n",
              "    .dataframe tbody tr th:only-of-type {\n",
              "        vertical-align: middle;\n",
              "    }\n",
              "\n",
              "    .dataframe tbody tr th {\n",
              "        vertical-align: top;\n",
              "    }\n",
              "\n",
              "    .dataframe thead th {\n",
              "        text-align: right;\n",
              "    }\n",
              "</style>\n",
              "<table border=\"1\" class=\"dataframe\">\n",
              "  <thead>\n",
              "    <tr style=\"text-align: right;\">\n",
              "      <th></th>\n",
              "      <th>Year</th>\n",
              "      <th>Month</th>\n",
              "      <th>Day</th>\n",
              "      <th>Average Fill</th>\n",
              "    </tr>\n",
              "  </thead>\n",
              "  <tbody>\n",
              "    <tr>\n",
              "      <th>0</th>\n",
              "      <td>2006.0</td>\n",
              "      <td>12.0</td>\n",
              "      <td>31.0</td>\n",
              "      <td>4.896200</td>\n",
              "    </tr>\n",
              "    <tr>\n",
              "      <th>1</th>\n",
              "      <td>2007.0</td>\n",
              "      <td>1.0</td>\n",
              "      <td>1.0</td>\n",
              "      <td>6.523144</td>\n",
              "    </tr>\n",
              "    <tr>\n",
              "      <th>2</th>\n",
              "      <td>2007.0</td>\n",
              "      <td>1.0</td>\n",
              "      <td>2.0</td>\n",
              "      <td>7.969255</td>\n",
              "    </tr>\n",
              "    <tr>\n",
              "      <th>3</th>\n",
              "      <td>2007.0</td>\n",
              "      <td>1.0</td>\n",
              "      <td>3.0</td>\n",
              "      <td>10.077288</td>\n",
              "    </tr>\n",
              "    <tr>\n",
              "      <th>4</th>\n",
              "      <td>2007.0</td>\n",
              "      <td>1.0</td>\n",
              "      <td>4.0</td>\n",
              "      <td>13.080835</td>\n",
              "    </tr>\n",
              "    <tr>\n",
              "      <th>...</th>\n",
              "      <td>...</td>\n",
              "      <td>...</td>\n",
              "      <td>...</td>\n",
              "      <td>...</td>\n",
              "    </tr>\n",
              "    <tr>\n",
              "      <th>6176</th>\n",
              "      <td>2024.0</td>\n",
              "      <td>2.0</td>\n",
              "      <td>17.0</td>\n",
              "      <td>7.173435</td>\n",
              "    </tr>\n",
              "    <tr>\n",
              "      <th>6177</th>\n",
              "      <td>2024.0</td>\n",
              "      <td>2.0</td>\n",
              "      <td>18.0</td>\n",
              "      <td>9.014421</td>\n",
              "    </tr>\n",
              "    <tr>\n",
              "      <th>6178</th>\n",
              "      <td>2024.0</td>\n",
              "      <td>2.0</td>\n",
              "      <td>19.0</td>\n",
              "      <td>11.946493</td>\n",
              "    </tr>\n",
              "    <tr>\n",
              "      <th>6179</th>\n",
              "      <td>2024.0</td>\n",
              "      <td>2.0</td>\n",
              "      <td>20.0</td>\n",
              "      <td>12.994626</td>\n",
              "    </tr>\n",
              "    <tr>\n",
              "      <th>6180</th>\n",
              "      <td>2024.0</td>\n",
              "      <td>2.0</td>\n",
              "      <td>21.0</td>\n",
              "      <td>15.389021</td>\n",
              "    </tr>\n",
              "  </tbody>\n",
              "</table>\n",
              "<p>6181 rows × 4 columns</p>\n",
              "</div>\n",
              "    <div class=\"colab-df-buttons\">\n",
              "\n",
              "  <div class=\"colab-df-container\">\n",
              "    <button class=\"colab-df-convert\" onclick=\"convertToInteractive('df-343d66b7-260f-46f4-90d8-9c0d990db437')\"\n",
              "            title=\"Convert this dataframe to an interactive table.\"\n",
              "            style=\"display:none;\">\n",
              "\n",
              "  <svg xmlns=\"http://www.w3.org/2000/svg\" height=\"24px\" viewBox=\"0 -960 960 960\">\n",
              "    <path d=\"M120-120v-720h720v720H120Zm60-500h600v-160H180v160Zm220 220h160v-160H400v160Zm0 220h160v-160H400v160ZM180-400h160v-160H180v160Zm440 0h160v-160H620v160ZM180-180h160v-160H180v160Zm440 0h160v-160H620v160Z\"/>\n",
              "  </svg>\n",
              "    </button>\n",
              "\n",
              "  <style>\n",
              "    .colab-df-container {\n",
              "      display:flex;\n",
              "      gap: 12px;\n",
              "    }\n",
              "\n",
              "    .colab-df-convert {\n",
              "      background-color: #E8F0FE;\n",
              "      border: none;\n",
              "      border-radius: 50%;\n",
              "      cursor: pointer;\n",
              "      display: none;\n",
              "      fill: #1967D2;\n",
              "      height: 32px;\n",
              "      padding: 0 0 0 0;\n",
              "      width: 32px;\n",
              "    }\n",
              "\n",
              "    .colab-df-convert:hover {\n",
              "      background-color: #E2EBFA;\n",
              "      box-shadow: 0px 1px 2px rgba(60, 64, 67, 0.3), 0px 1px 3px 1px rgba(60, 64, 67, 0.15);\n",
              "      fill: #174EA6;\n",
              "    }\n",
              "\n",
              "    .colab-df-buttons div {\n",
              "      margin-bottom: 4px;\n",
              "    }\n",
              "\n",
              "    [theme=dark] .colab-df-convert {\n",
              "      background-color: #3B4455;\n",
              "      fill: #D2E3FC;\n",
              "    }\n",
              "\n",
              "    [theme=dark] .colab-df-convert:hover {\n",
              "      background-color: #434B5C;\n",
              "      box-shadow: 0px 1px 3px 1px rgba(0, 0, 0, 0.15);\n",
              "      filter: drop-shadow(0px 1px 2px rgba(0, 0, 0, 0.3));\n",
              "      fill: #FFFFFF;\n",
              "    }\n",
              "  </style>\n",
              "\n",
              "    <script>\n",
              "      const buttonEl =\n",
              "        document.querySelector('#df-343d66b7-260f-46f4-90d8-9c0d990db437 button.colab-df-convert');\n",
              "      buttonEl.style.display =\n",
              "        google.colab.kernel.accessAllowed ? 'block' : 'none';\n",
              "\n",
              "      async function convertToInteractive(key) {\n",
              "        const element = document.querySelector('#df-343d66b7-260f-46f4-90d8-9c0d990db437');\n",
              "        const dataTable =\n",
              "          await google.colab.kernel.invokeFunction('convertToInteractive',\n",
              "                                                    [key], {});\n",
              "        if (!dataTable) return;\n",
              "\n",
              "        const docLinkHtml = 'Like what you see? Visit the ' +\n",
              "          '<a target=\"_blank\" href=https://colab.research.google.com/notebooks/data_table.ipynb>data table notebook</a>'\n",
              "          + ' to learn more about interactive tables.';\n",
              "        element.innerHTML = '';\n",
              "        dataTable['output_type'] = 'display_data';\n",
              "        await google.colab.output.renderOutput(dataTable, element);\n",
              "        const docLink = document.createElement('div');\n",
              "        docLink.innerHTML = docLinkHtml;\n",
              "        element.appendChild(docLink);\n",
              "      }\n",
              "    </script>\n",
              "  </div>\n",
              "\n",
              "\n",
              "<div id=\"df-03af9a96-0c44-4626-a090-b22df48bd706\">\n",
              "  <button class=\"colab-df-quickchart\" onclick=\"quickchart('df-03af9a96-0c44-4626-a090-b22df48bd706')\"\n",
              "            title=\"Suggest charts\"\n",
              "            style=\"display:none;\">\n",
              "\n",
              "<svg xmlns=\"http://www.w3.org/2000/svg\" height=\"24px\"viewBox=\"0 0 24 24\"\n",
              "     width=\"24px\">\n",
              "    <g>\n",
              "        <path d=\"M19 3H5c-1.1 0-2 .9-2 2v14c0 1.1.9 2 2 2h14c1.1 0 2-.9 2-2V5c0-1.1-.9-2-2-2zM9 17H7v-7h2v7zm4 0h-2V7h2v10zm4 0h-2v-4h2v4z\"/>\n",
              "    </g>\n",
              "</svg>\n",
              "  </button>\n",
              "\n",
              "<style>\n",
              "  .colab-df-quickchart {\n",
              "      --bg-color: #E8F0FE;\n",
              "      --fill-color: #1967D2;\n",
              "      --hover-bg-color: #E2EBFA;\n",
              "      --hover-fill-color: #174EA6;\n",
              "      --disabled-fill-color: #AAA;\n",
              "      --disabled-bg-color: #DDD;\n",
              "  }\n",
              "\n",
              "  [theme=dark] .colab-df-quickchart {\n",
              "      --bg-color: #3B4455;\n",
              "      --fill-color: #D2E3FC;\n",
              "      --hover-bg-color: #434B5C;\n",
              "      --hover-fill-color: #FFFFFF;\n",
              "      --disabled-bg-color: #3B4455;\n",
              "      --disabled-fill-color: #666;\n",
              "  }\n",
              "\n",
              "  .colab-df-quickchart {\n",
              "    background-color: var(--bg-color);\n",
              "    border: none;\n",
              "    border-radius: 50%;\n",
              "    cursor: pointer;\n",
              "    display: none;\n",
              "    fill: var(--fill-color);\n",
              "    height: 32px;\n",
              "    padding: 0;\n",
              "    width: 32px;\n",
              "  }\n",
              "\n",
              "  .colab-df-quickchart:hover {\n",
              "    background-color: var(--hover-bg-color);\n",
              "    box-shadow: 0 1px 2px rgba(60, 64, 67, 0.3), 0 1px 3px 1px rgba(60, 64, 67, 0.15);\n",
              "    fill: var(--button-hover-fill-color);\n",
              "  }\n",
              "\n",
              "  .colab-df-quickchart-complete:disabled,\n",
              "  .colab-df-quickchart-complete:disabled:hover {\n",
              "    background-color: var(--disabled-bg-color);\n",
              "    fill: var(--disabled-fill-color);\n",
              "    box-shadow: none;\n",
              "  }\n",
              "\n",
              "  .colab-df-spinner {\n",
              "    border: 2px solid var(--fill-color);\n",
              "    border-color: transparent;\n",
              "    border-bottom-color: var(--fill-color);\n",
              "    animation:\n",
              "      spin 1s steps(1) infinite;\n",
              "  }\n",
              "\n",
              "  @keyframes spin {\n",
              "    0% {\n",
              "      border-color: transparent;\n",
              "      border-bottom-color: var(--fill-color);\n",
              "      border-left-color: var(--fill-color);\n",
              "    }\n",
              "    20% {\n",
              "      border-color: transparent;\n",
              "      border-left-color: var(--fill-color);\n",
              "      border-top-color: var(--fill-color);\n",
              "    }\n",
              "    30% {\n",
              "      border-color: transparent;\n",
              "      border-left-color: var(--fill-color);\n",
              "      border-top-color: var(--fill-color);\n",
              "      border-right-color: var(--fill-color);\n",
              "    }\n",
              "    40% {\n",
              "      border-color: transparent;\n",
              "      border-right-color: var(--fill-color);\n",
              "      border-top-color: var(--fill-color);\n",
              "    }\n",
              "    60% {\n",
              "      border-color: transparent;\n",
              "      border-right-color: var(--fill-color);\n",
              "    }\n",
              "    80% {\n",
              "      border-color: transparent;\n",
              "      border-right-color: var(--fill-color);\n",
              "      border-bottom-color: var(--fill-color);\n",
              "    }\n",
              "    90% {\n",
              "      border-color: transparent;\n",
              "      border-bottom-color: var(--fill-color);\n",
              "    }\n",
              "  }\n",
              "</style>\n",
              "\n",
              "  <script>\n",
              "    async function quickchart(key) {\n",
              "      const quickchartButtonEl =\n",
              "        document.querySelector('#' + key + ' button');\n",
              "      quickchartButtonEl.disabled = true;  // To prevent multiple clicks.\n",
              "      quickchartButtonEl.classList.add('colab-df-spinner');\n",
              "      try {\n",
              "        const charts = await google.colab.kernel.invokeFunction(\n",
              "            'suggestCharts', [key], {});\n",
              "      } catch (error) {\n",
              "        console.error('Error during call to suggestCharts:', error);\n",
              "      }\n",
              "      quickchartButtonEl.classList.remove('colab-df-spinner');\n",
              "      quickchartButtonEl.classList.add('colab-df-quickchart-complete');\n",
              "    }\n",
              "    (() => {\n",
              "      let quickchartButtonEl =\n",
              "        document.querySelector('#df-03af9a96-0c44-4626-a090-b22df48bd706 button');\n",
              "      quickchartButtonEl.style.display =\n",
              "        google.colab.kernel.accessAllowed ? 'block' : 'none';\n",
              "    })();\n",
              "  </script>\n",
              "</div>\n",
              "\n",
              "  <div id=\"id_36995569-c0b7-42cf-8f25-dc4afda8c68c\">\n",
              "    <style>\n",
              "      .colab-df-generate {\n",
              "        background-color: #E8F0FE;\n",
              "        border: none;\n",
              "        border-radius: 50%;\n",
              "        cursor: pointer;\n",
              "        display: none;\n",
              "        fill: #1967D2;\n",
              "        height: 32px;\n",
              "        padding: 0 0 0 0;\n",
              "        width: 32px;\n",
              "      }\n",
              "\n",
              "      .colab-df-generate:hover {\n",
              "        background-color: #E2EBFA;\n",
              "        box-shadow: 0px 1px 2px rgba(60, 64, 67, 0.3), 0px 1px 3px 1px rgba(60, 64, 67, 0.15);\n",
              "        fill: #174EA6;\n",
              "      }\n",
              "\n",
              "      [theme=dark] .colab-df-generate {\n",
              "        background-color: #3B4455;\n",
              "        fill: #D2E3FC;\n",
              "      }\n",
              "\n",
              "      [theme=dark] .colab-df-generate:hover {\n",
              "        background-color: #434B5C;\n",
              "        box-shadow: 0px 1px 3px 1px rgba(0, 0, 0, 0.15);\n",
              "        filter: drop-shadow(0px 1px 2px rgba(0, 0, 0, 0.3));\n",
              "        fill: #FFFFFF;\n",
              "      }\n",
              "    </style>\n",
              "    <button class=\"colab-df-generate\" onclick=\"generateWithVariable('river1_data')\"\n",
              "            title=\"Generate code using this dataframe.\"\n",
              "            style=\"display:none;\">\n",
              "\n",
              "  <svg xmlns=\"http://www.w3.org/2000/svg\" height=\"24px\"viewBox=\"0 0 24 24\"\n",
              "       width=\"24px\">\n",
              "    <path d=\"M7,19H8.4L18.45,9,17,7.55,7,17.6ZM5,21V16.75L18.45,3.32a2,2,0,0,1,2.83,0l1.4,1.43a1.91,1.91,0,0,1,.58,1.4,1.91,1.91,0,0,1-.58,1.4L9.25,21ZM18.45,9,17,7.55Zm-12,3A5.31,5.31,0,0,0,4.9,8.1,5.31,5.31,0,0,0,1,6.5,5.31,5.31,0,0,0,4.9,4.9,5.31,5.31,0,0,0,6.5,1,5.31,5.31,0,0,0,8.1,4.9,5.31,5.31,0,0,0,12,6.5,5.46,5.46,0,0,0,6.5,12Z\"/>\n",
              "  </svg>\n",
              "    </button>\n",
              "    <script>\n",
              "      (() => {\n",
              "      const buttonEl =\n",
              "        document.querySelector('#id_36995569-c0b7-42cf-8f25-dc4afda8c68c button.colab-df-generate');\n",
              "      buttonEl.style.display =\n",
              "        google.colab.kernel.accessAllowed ? 'block' : 'none';\n",
              "\n",
              "      buttonEl.onclick = () => {\n",
              "        google.colab.notebook.generateWithVariable('river1_data');\n",
              "      }\n",
              "      })();\n",
              "    </script>\n",
              "  </div>\n",
              "\n",
              "    </div>\n",
              "  </div>\n"
            ],
            "application/vnd.google.colaboratory.intrinsic+json": {
              "type": "dataframe",
              "variable_name": "river1_data",
              "summary": "{\n  \"name\": \"river1_data\",\n  \"rows\": 6181,\n  \"fields\": [\n    {\n      \"column\": \"Year\",\n      \"properties\": {\n        \"dtype\": \"number\",\n        \"std\": 4.956456428126631,\n        \"min\": 2006.0,\n        \"max\": 2024.0,\n        \"num_unique_values\": 19,\n        \"samples\": [\n          2006.0,\n          2011.0,\n          2017.0\n        ],\n        \"semantic_type\": \"\",\n        \"description\": \"\"\n      }\n    },\n    {\n      \"column\": \"Month\",\n      \"properties\": {\n        \"dtype\": \"number\",\n        \"std\": 3.4736114770328683,\n        \"min\": 1.0,\n        \"max\": 12.0,\n        \"num_unique_values\": 12,\n        \"samples\": [\n          10.0,\n          9.0,\n          12.0\n        ],\n        \"semantic_type\": \"\",\n        \"description\": \"\"\n      }\n    },\n    {\n      \"column\": \"Day\",\n      \"properties\": {\n        \"dtype\": \"number\",\n        \"std\": 8.796862214851382,\n        \"min\": 1.0,\n        \"max\": 31.0,\n        \"num_unique_values\": 31,\n        \"samples\": [\n          27.0,\n          15.0,\n          23.0\n        ],\n        \"semantic_type\": \"\",\n        \"description\": \"\"\n      }\n    },\n    {\n      \"column\": \"Average Fill\",\n      \"properties\": {\n        \"dtype\": \"number\",\n        \"std\": 7.746813810147068,\n        \"min\": 0.8517713178294578,\n        \"max\": 64.165804964539,\n        \"num_unique_values\": 6172,\n        \"samples\": [\n          2.1973321167883197,\n          3.6144035087719297,\n          2.4980989399293283\n        ],\n        \"semantic_type\": \"\",\n        \"description\": \"\"\n      }\n    }\n  ]\n}"
            }
          },
          "metadata": {},
          "execution_count": 19
        }
      ]
    },
    {
      "cell_type": "code",
      "source": [
        "new_data = river1_data_list[:-52]\n",
        "print(new_data[-5:-1])\n",
        "print(len(new_data))\n",
        "print(new_data[-1])"
      ],
      "metadata": {
        "colab": {
          "base_uri": "https://localhost:8080/"
        },
        "id": "g6Irxi_Rzuwk",
        "outputId": "91f0749c-5601-4da4-a209-2b1a6ed259aa"
      },
      "execution_count": 20,
      "outputs": [
        {
          "output_type": "stream",
          "name": "stdout",
          "text": [
            "[[2023.0, 12.0, 27.0, 58.80282978723402], [2023.0, 12.0, 28.0, 55.49544169611311], [2023.0, 12.0, 29.0, 49.16776950354609], [2023.0, 12.0, 30.0, 47.39830035335692]]\n",
            "6129\n",
            "[2023.0, 12.0, 31.0, 39.835222614840994]\n"
          ]
        }
      ]
    },
    {
      "cell_type": "code",
      "source": [
        "for i in range(len(river1_data_list[:-52])):\n",
        "  # print(river1_data_list[i][0])\n",
        "  date_val_year,date_val_month,date_val_day = river1_data_list[i][0],river1_data_list[i][1],river1_data_list[i][2]\n",
        "  fill_value = river1_data_list[i][3]\n",
        "  date_obj = date(int(date_val_year), int(date_val_month), int(date_val_day))\n",
        "  final_data_dict[date_obj]['river'][river_name[0]]['Fill'] = fill_value\n",
        "  final_data_dict[date_obj]['river'][river_name[0]]['Lat'] = river_lat_long[0][0]\n",
        "  final_data_dict[date_obj]['river'][river_name[0]]['Long'] = river_lat_long[0][1]\n",
        "\n",
        "print(final_data_dict.get(start_date))"
      ],
      "metadata": {
        "colab": {
          "base_uri": "https://localhost:8080/"
        },
        "id": "KxNqsS3NuyVX",
        "outputId": "905ebdf4-9a82-4602-94b3-f6f2fc7b6940"
      },
      "execution_count": 21,
      "outputs": [
        {
          "output_type": "stream",
          "name": "stdout",
          "text": [
            "{'river': {'Beyenburg (Ablaufpegel)': {}, 'Krebsöge': {}, 'Laaken': {}, 'Leimbach': {}}, 'dam': {'Herbringhauser Talsperre H': {}, 'Stauanlage Dahlhausen': {}, '(Stausee) Beyenburg': {}, 'Wupper-Talsperre': {}}, 'weather': {'4741': {'RS': 0.0, 'RS1': 0.2636962830860595, 'RS2': 0.8918441729782746, 'RS3': 0.2, 'RS7': 3.097967840408076, 'RS14': 8.41347532578988, 'RSF': 6, 'Lat': 51.14004, 'Long': 7.092982}, '5483': {'RS': 0.3, 'RS1': 0.09406528286717, 'RS2': 0.0, 'RS3': 0.1533292895166836, 'RS7': 1.663132480409251, 'RS14': 7.348551197333054, 'RSF': 4, 'Lat': 51.149817, 'Long': 7.186723}, '5717': {'RS': 0.1, 'RS1': 0.1027901147084698, 'RS2': 0.0812138492397264, 'RS3': 0.0, 'RS7': 0.453203994833308, 'RS14': 6.1172339595882335, 'RSF': 6, 'Lat': 51.225598, 'Long': 7.105176}}}\n"
          ]
        }
      ]
    },
    {
      "cell_type": "code",
      "source": [
        "new_data = river2_data_list[:-38]\n",
        "print(new_data[-5:-1])\n",
        "print(len(new_data))\n",
        "print(new_data[-1])"
      ],
      "metadata": {
        "colab": {
          "base_uri": "https://localhost:8080/"
        },
        "id": "AbB75Q1tQp8M",
        "outputId": "b2a702d0-0620-4a51-b0c2-900c1dec57b3"
      },
      "execution_count": 22,
      "outputs": [
        {
          "output_type": "stream",
          "name": "stdout",
          "text": [
            "[[2023.0, 12.0, 27.0, 218.3266666666667], [2023.0, 12.0, 28.0, 213.50526315789477], [2023.0, 12.0, 29.0, 202.96643109540636], [2023.0, 12.0, 30.0, 197.37330960854104]]\n",
            "1940\n",
            "[2023.0, 12.0, 31.0, 184.81950354609936]\n"
          ]
        }
      ]
    },
    {
      "cell_type": "code",
      "source": [
        "for i in range(len(river2_data_list[:-38])):\n",
        "  # print(river1_data_list[i][0])\n",
        "  date_val_year,date_val_month,date_val_day = river2_data_list[i][0],river2_data_list[i][1],river2_data_list[i][2]\n",
        "  fill_value = river2_data_list[i][3]\n",
        "  date_obj = date(int(date_val_year), int(date_val_month), int(date_val_day))\n",
        "  final_data_dict[date_obj]['river'][river_name[1]]['Fill'] = fill_value\n",
        "  final_data_dict[date_obj]['river'][river_name[1]]['Lat'] = river_lat_long[1][0]\n",
        "  final_data_dict[date_obj]['river'][river_name[1]]['Long'] = river_lat_long[1][1]\n",
        "\n",
        "print(final_data_dict.get(start_date))"
      ],
      "metadata": {
        "colab": {
          "base_uri": "https://localhost:8080/"
        },
        "id": "EwHq5NBg0gYe",
        "outputId": "9bbccb7d-2ebe-4294-b254-2785e26f3b5a"
      },
      "execution_count": 23,
      "outputs": [
        {
          "output_type": "stream",
          "name": "stdout",
          "text": [
            "{'river': {'Beyenburg (Ablaufpegel)': {}, 'Krebsöge': {}, 'Laaken': {}, 'Leimbach': {}}, 'dam': {'Herbringhauser Talsperre H': {}, 'Stauanlage Dahlhausen': {}, '(Stausee) Beyenburg': {}, 'Wupper-Talsperre': {}}, 'weather': {'4741': {'RS': 0.0, 'RS1': 0.2636962830860595, 'RS2': 0.8918441729782746, 'RS3': 0.2, 'RS7': 3.097967840408076, 'RS14': 8.41347532578988, 'RSF': 6, 'Lat': 51.14004, 'Long': 7.092982}, '5483': {'RS': 0.3, 'RS1': 0.09406528286717, 'RS2': 0.0, 'RS3': 0.1533292895166836, 'RS7': 1.663132480409251, 'RS14': 7.348551197333054, 'RSF': 4, 'Lat': 51.149817, 'Long': 7.186723}, '5717': {'RS': 0.1, 'RS1': 0.1027901147084698, 'RS2': 0.0812138492397264, 'RS3': 0.0, 'RS7': 0.453203994833308, 'RS14': 6.1172339595882335, 'RSF': 6, 'Lat': 51.225598, 'Long': 7.105176}}}\n"
          ]
        }
      ]
    },
    {
      "cell_type": "code",
      "source": [
        "new_data = river3_data_list[:-52]\n",
        "print(new_data[-5:-1])\n",
        "print(len(new_data))\n",
        "print(new_data[-1])"
      ],
      "metadata": {
        "colab": {
          "base_uri": "https://localhost:8080/"
        },
        "id": "e-lcWjb0RG5V",
        "outputId": "75baffc4-b097-458f-d789-624292b1fd84"
      },
      "execution_count": 24,
      "outputs": [
        {
          "output_type": "stream",
          "name": "stdout",
          "text": [
            "[[2023.0, 12.0, 27.0, 226.5228070175439], [2023.0, 12.0, 28.0, 217.4947735191639], [2023.0, 12.0, 29.0, 210.07097902097917], [2023.0, 12.0, 30.0, 207.7014084507041]]\n",
            "7000\n",
            "[2023.0, 12.0, 31.0, 197.33745583038865]\n"
          ]
        }
      ]
    },
    {
      "cell_type": "code",
      "source": [
        "for i in range(len(river3_data_list[:-52])):\n",
        "  # print(river1_data_list[i][0])\n",
        "  date_val_year,date_val_month,date_val_day = river3_data_list[i][0],river3_data_list[i][1],river3_data_list[i][2]\n",
        "  fill_value = river3_data_list[i][3]\n",
        "  date_obj = date(int(date_val_year), int(date_val_month), int(date_val_day))\n",
        "  final_data_dict[date_obj]['river'][river_name[2]]['Fill'] = fill_value\n",
        "  final_data_dict[date_obj]['river'][river_name[2]]['Lat'] = river_lat_long[2][0]\n",
        "  final_data_dict[date_obj]['river'][river_name[2]]['Long'] = river_lat_long[2][1]\n",
        "\n",
        "print(final_data_dict.get(start_date))"
      ],
      "metadata": {
        "colab": {
          "base_uri": "https://localhost:8080/"
        },
        "id": "N8yRwtVdQzMs",
        "outputId": "2c03b5f9-29e6-4bbb-a9f7-c06f10204ea7"
      },
      "execution_count": 25,
      "outputs": [
        {
          "output_type": "stream",
          "name": "stdout",
          "text": [
            "{'river': {'Beyenburg (Ablaufpegel)': {}, 'Krebsöge': {}, 'Laaken': {}, 'Leimbach': {}}, 'dam': {'Herbringhauser Talsperre H': {}, 'Stauanlage Dahlhausen': {}, '(Stausee) Beyenburg': {}, 'Wupper-Talsperre': {}}, 'weather': {'4741': {'RS': 0.0, 'RS1': 0.2636962830860595, 'RS2': 0.8918441729782746, 'RS3': 0.2, 'RS7': 3.097967840408076, 'RS14': 8.41347532578988, 'RSF': 6, 'Lat': 51.14004, 'Long': 7.092982}, '5483': {'RS': 0.3, 'RS1': 0.09406528286717, 'RS2': 0.0, 'RS3': 0.1533292895166836, 'RS7': 1.663132480409251, 'RS14': 7.348551197333054, 'RSF': 4, 'Lat': 51.149817, 'Long': 7.186723}, '5717': {'RS': 0.1, 'RS1': 0.1027901147084698, 'RS2': 0.0812138492397264, 'RS3': 0.0, 'RS7': 0.453203994833308, 'RS14': 6.1172339595882335, 'RSF': 6, 'Lat': 51.225598, 'Long': 7.105176}}}\n"
          ]
        }
      ]
    },
    {
      "cell_type": "code",
      "source": [
        "new_data = river4_data_list[:-38]\n",
        "print(new_data[-5:-1])\n",
        "print(len(new_data))\n",
        "print(new_data[-1])"
      ],
      "metadata": {
        "colab": {
          "base_uri": "https://localhost:8080/"
        },
        "id": "Vah4x9zQRfjx",
        "outputId": "fea83887-c867-4357-fc15-2fcf0d6bc190"
      },
      "execution_count": 26,
      "outputs": [
        {
          "output_type": "stream",
          "name": "stdout",
          "text": [
            "[[2023.0, 12.0, 27.0, 13.856916996047444], [2023.0, 12.0, 28.0, 12.769758064516145], [2023.0, 12.0, 29.0, 13.77423076923078], [2023.0, 12.0, 30.0, 12.958301158301165]]\n",
            "5595\n",
            "[2023.0, 12.0, 31.0, 12.138934426229504]\n"
          ]
        }
      ]
    },
    {
      "cell_type": "code",
      "source": [
        "for i in range(len(river4_data_list[:-38])):\n",
        "  # print(river1_data_list[i][0])\n",
        "  date_val_year,date_val_month,date_val_day = river4_data_list[i][0],river4_data_list[i][1],river4_data_list[i][2]\n",
        "  fill_value = river4_data_list[i][3]\n",
        "  date_obj = date(int(date_val_year), int(date_val_month), int(date_val_day))\n",
        "  final_data_dict[date_obj]['river'][river_name[3]]['Fill'] = fill_value\n",
        "  final_data_dict[date_obj]['river'][river_name[3]]['Lat'] = river_lat_long[3][0]\n",
        "  final_data_dict[date_obj]['river'][river_name[3]]['Long'] = river_lat_long[3][1]\n",
        "\n",
        "print(final_data_dict.get(start_date))"
      ],
      "metadata": {
        "colab": {
          "base_uri": "https://localhost:8080/"
        },
        "id": "YNDJUE0DyyAJ",
        "outputId": "17890f46-88da-4ae3-853b-25d1a802b267"
      },
      "execution_count": 27,
      "outputs": [
        {
          "output_type": "stream",
          "name": "stdout",
          "text": [
            "{'river': {'Beyenburg (Ablaufpegel)': {}, 'Krebsöge': {}, 'Laaken': {}, 'Leimbach': {}}, 'dam': {'Herbringhauser Talsperre H': {}, 'Stauanlage Dahlhausen': {}, '(Stausee) Beyenburg': {}, 'Wupper-Talsperre': {}}, 'weather': {'4741': {'RS': 0.0, 'RS1': 0.2636962830860595, 'RS2': 0.8918441729782746, 'RS3': 0.2, 'RS7': 3.097967840408076, 'RS14': 8.41347532578988, 'RSF': 6, 'Lat': 51.14004, 'Long': 7.092982}, '5483': {'RS': 0.3, 'RS1': 0.09406528286717, 'RS2': 0.0, 'RS3': 0.1533292895166836, 'RS7': 1.663132480409251, 'RS14': 7.348551197333054, 'RSF': 4, 'Lat': 51.149817, 'Long': 7.186723}, '5717': {'RS': 0.1, 'RS1': 0.1027901147084698, 'RS2': 0.0812138492397264, 'RS3': 0.0, 'RS7': 0.453203994833308, 'RS14': 6.1172339595882335, 'RSF': 6, 'Lat': 51.225598, 'Long': 7.105176}}}\n"
          ]
        }
      ]
    },
    {
      "cell_type": "code",
      "source": [
        "river_dam1_data.tail()"
      ],
      "metadata": {
        "colab": {
          "base_uri": "https://localhost:8080/",
          "height": 206
        },
        "id": "AUGvfmwZRoL1",
        "outputId": "a391dfe0-fc1b-4b99-81d3-02494bc30046"
      },
      "execution_count": 28,
      "outputs": [
        {
          "output_type": "execute_result",
          "data": {
            "text/plain": [
              "        Year  Month   Day  Average discharge\n",
              "2664  2024.0    2.0  20.0         270.801250\n",
              "2665  2024.0    2.0  21.0         270.894000\n",
              "2666  2024.0    2.0  22.0         271.042000\n",
              "2667  2024.0    2.0  23.0         271.167619\n",
              "2668  2024.0    2.0  24.0         271.215000"
            ],
            "text/html": [
              "\n",
              "  <div id=\"df-79f1622d-58d1-43b1-91d8-febc4e089ecd\" class=\"colab-df-container\">\n",
              "    <div>\n",
              "<style scoped>\n",
              "    .dataframe tbody tr th:only-of-type {\n",
              "        vertical-align: middle;\n",
              "    }\n",
              "\n",
              "    .dataframe tbody tr th {\n",
              "        vertical-align: top;\n",
              "    }\n",
              "\n",
              "    .dataframe thead th {\n",
              "        text-align: right;\n",
              "    }\n",
              "</style>\n",
              "<table border=\"1\" class=\"dataframe\">\n",
              "  <thead>\n",
              "    <tr style=\"text-align: right;\">\n",
              "      <th></th>\n",
              "      <th>Year</th>\n",
              "      <th>Month</th>\n",
              "      <th>Day</th>\n",
              "      <th>Average discharge</th>\n",
              "    </tr>\n",
              "  </thead>\n",
              "  <tbody>\n",
              "    <tr>\n",
              "      <th>2664</th>\n",
              "      <td>2024.0</td>\n",
              "      <td>2.0</td>\n",
              "      <td>20.0</td>\n",
              "      <td>270.801250</td>\n",
              "    </tr>\n",
              "    <tr>\n",
              "      <th>2665</th>\n",
              "      <td>2024.0</td>\n",
              "      <td>2.0</td>\n",
              "      <td>21.0</td>\n",
              "      <td>270.894000</td>\n",
              "    </tr>\n",
              "    <tr>\n",
              "      <th>2666</th>\n",
              "      <td>2024.0</td>\n",
              "      <td>2.0</td>\n",
              "      <td>22.0</td>\n",
              "      <td>271.042000</td>\n",
              "    </tr>\n",
              "    <tr>\n",
              "      <th>2667</th>\n",
              "      <td>2024.0</td>\n",
              "      <td>2.0</td>\n",
              "      <td>23.0</td>\n",
              "      <td>271.167619</td>\n",
              "    </tr>\n",
              "    <tr>\n",
              "      <th>2668</th>\n",
              "      <td>2024.0</td>\n",
              "      <td>2.0</td>\n",
              "      <td>24.0</td>\n",
              "      <td>271.215000</td>\n",
              "    </tr>\n",
              "  </tbody>\n",
              "</table>\n",
              "</div>\n",
              "    <div class=\"colab-df-buttons\">\n",
              "\n",
              "  <div class=\"colab-df-container\">\n",
              "    <button class=\"colab-df-convert\" onclick=\"convertToInteractive('df-79f1622d-58d1-43b1-91d8-febc4e089ecd')\"\n",
              "            title=\"Convert this dataframe to an interactive table.\"\n",
              "            style=\"display:none;\">\n",
              "\n",
              "  <svg xmlns=\"http://www.w3.org/2000/svg\" height=\"24px\" viewBox=\"0 -960 960 960\">\n",
              "    <path d=\"M120-120v-720h720v720H120Zm60-500h600v-160H180v160Zm220 220h160v-160H400v160Zm0 220h160v-160H400v160ZM180-400h160v-160H180v160Zm440 0h160v-160H620v160ZM180-180h160v-160H180v160Zm440 0h160v-160H620v160Z\"/>\n",
              "  </svg>\n",
              "    </button>\n",
              "\n",
              "  <style>\n",
              "    .colab-df-container {\n",
              "      display:flex;\n",
              "      gap: 12px;\n",
              "    }\n",
              "\n",
              "    .colab-df-convert {\n",
              "      background-color: #E8F0FE;\n",
              "      border: none;\n",
              "      border-radius: 50%;\n",
              "      cursor: pointer;\n",
              "      display: none;\n",
              "      fill: #1967D2;\n",
              "      height: 32px;\n",
              "      padding: 0 0 0 0;\n",
              "      width: 32px;\n",
              "    }\n",
              "\n",
              "    .colab-df-convert:hover {\n",
              "      background-color: #E2EBFA;\n",
              "      box-shadow: 0px 1px 2px rgba(60, 64, 67, 0.3), 0px 1px 3px 1px rgba(60, 64, 67, 0.15);\n",
              "      fill: #174EA6;\n",
              "    }\n",
              "\n",
              "    .colab-df-buttons div {\n",
              "      margin-bottom: 4px;\n",
              "    }\n",
              "\n",
              "    [theme=dark] .colab-df-convert {\n",
              "      background-color: #3B4455;\n",
              "      fill: #D2E3FC;\n",
              "    }\n",
              "\n",
              "    [theme=dark] .colab-df-convert:hover {\n",
              "      background-color: #434B5C;\n",
              "      box-shadow: 0px 1px 3px 1px rgba(0, 0, 0, 0.15);\n",
              "      filter: drop-shadow(0px 1px 2px rgba(0, 0, 0, 0.3));\n",
              "      fill: #FFFFFF;\n",
              "    }\n",
              "  </style>\n",
              "\n",
              "    <script>\n",
              "      const buttonEl =\n",
              "        document.querySelector('#df-79f1622d-58d1-43b1-91d8-febc4e089ecd button.colab-df-convert');\n",
              "      buttonEl.style.display =\n",
              "        google.colab.kernel.accessAllowed ? 'block' : 'none';\n",
              "\n",
              "      async function convertToInteractive(key) {\n",
              "        const element = document.querySelector('#df-79f1622d-58d1-43b1-91d8-febc4e089ecd');\n",
              "        const dataTable =\n",
              "          await google.colab.kernel.invokeFunction('convertToInteractive',\n",
              "                                                    [key], {});\n",
              "        if (!dataTable) return;\n",
              "\n",
              "        const docLinkHtml = 'Like what you see? Visit the ' +\n",
              "          '<a target=\"_blank\" href=https://colab.research.google.com/notebooks/data_table.ipynb>data table notebook</a>'\n",
              "          + ' to learn more about interactive tables.';\n",
              "        element.innerHTML = '';\n",
              "        dataTable['output_type'] = 'display_data';\n",
              "        await google.colab.output.renderOutput(dataTable, element);\n",
              "        const docLink = document.createElement('div');\n",
              "        docLink.innerHTML = docLinkHtml;\n",
              "        element.appendChild(docLink);\n",
              "      }\n",
              "    </script>\n",
              "  </div>\n",
              "\n",
              "\n",
              "<div id=\"df-eaebba7f-9373-404a-8237-7a0b16ffa69f\">\n",
              "  <button class=\"colab-df-quickchart\" onclick=\"quickchart('df-eaebba7f-9373-404a-8237-7a0b16ffa69f')\"\n",
              "            title=\"Suggest charts\"\n",
              "            style=\"display:none;\">\n",
              "\n",
              "<svg xmlns=\"http://www.w3.org/2000/svg\" height=\"24px\"viewBox=\"0 0 24 24\"\n",
              "     width=\"24px\">\n",
              "    <g>\n",
              "        <path d=\"M19 3H5c-1.1 0-2 .9-2 2v14c0 1.1.9 2 2 2h14c1.1 0 2-.9 2-2V5c0-1.1-.9-2-2-2zM9 17H7v-7h2v7zm4 0h-2V7h2v10zm4 0h-2v-4h2v4z\"/>\n",
              "    </g>\n",
              "</svg>\n",
              "  </button>\n",
              "\n",
              "<style>\n",
              "  .colab-df-quickchart {\n",
              "      --bg-color: #E8F0FE;\n",
              "      --fill-color: #1967D2;\n",
              "      --hover-bg-color: #E2EBFA;\n",
              "      --hover-fill-color: #174EA6;\n",
              "      --disabled-fill-color: #AAA;\n",
              "      --disabled-bg-color: #DDD;\n",
              "  }\n",
              "\n",
              "  [theme=dark] .colab-df-quickchart {\n",
              "      --bg-color: #3B4455;\n",
              "      --fill-color: #D2E3FC;\n",
              "      --hover-bg-color: #434B5C;\n",
              "      --hover-fill-color: #FFFFFF;\n",
              "      --disabled-bg-color: #3B4455;\n",
              "      --disabled-fill-color: #666;\n",
              "  }\n",
              "\n",
              "  .colab-df-quickchart {\n",
              "    background-color: var(--bg-color);\n",
              "    border: none;\n",
              "    border-radius: 50%;\n",
              "    cursor: pointer;\n",
              "    display: none;\n",
              "    fill: var(--fill-color);\n",
              "    height: 32px;\n",
              "    padding: 0;\n",
              "    width: 32px;\n",
              "  }\n",
              "\n",
              "  .colab-df-quickchart:hover {\n",
              "    background-color: var(--hover-bg-color);\n",
              "    box-shadow: 0 1px 2px rgba(60, 64, 67, 0.3), 0 1px 3px 1px rgba(60, 64, 67, 0.15);\n",
              "    fill: var(--button-hover-fill-color);\n",
              "  }\n",
              "\n",
              "  .colab-df-quickchart-complete:disabled,\n",
              "  .colab-df-quickchart-complete:disabled:hover {\n",
              "    background-color: var(--disabled-bg-color);\n",
              "    fill: var(--disabled-fill-color);\n",
              "    box-shadow: none;\n",
              "  }\n",
              "\n",
              "  .colab-df-spinner {\n",
              "    border: 2px solid var(--fill-color);\n",
              "    border-color: transparent;\n",
              "    border-bottom-color: var(--fill-color);\n",
              "    animation:\n",
              "      spin 1s steps(1) infinite;\n",
              "  }\n",
              "\n",
              "  @keyframes spin {\n",
              "    0% {\n",
              "      border-color: transparent;\n",
              "      border-bottom-color: var(--fill-color);\n",
              "      border-left-color: var(--fill-color);\n",
              "    }\n",
              "    20% {\n",
              "      border-color: transparent;\n",
              "      border-left-color: var(--fill-color);\n",
              "      border-top-color: var(--fill-color);\n",
              "    }\n",
              "    30% {\n",
              "      border-color: transparent;\n",
              "      border-left-color: var(--fill-color);\n",
              "      border-top-color: var(--fill-color);\n",
              "      border-right-color: var(--fill-color);\n",
              "    }\n",
              "    40% {\n",
              "      border-color: transparent;\n",
              "      border-right-color: var(--fill-color);\n",
              "      border-top-color: var(--fill-color);\n",
              "    }\n",
              "    60% {\n",
              "      border-color: transparent;\n",
              "      border-right-color: var(--fill-color);\n",
              "    }\n",
              "    80% {\n",
              "      border-color: transparent;\n",
              "      border-right-color: var(--fill-color);\n",
              "      border-bottom-color: var(--fill-color);\n",
              "    }\n",
              "    90% {\n",
              "      border-color: transparent;\n",
              "      border-bottom-color: var(--fill-color);\n",
              "    }\n",
              "  }\n",
              "</style>\n",
              "\n",
              "  <script>\n",
              "    async function quickchart(key) {\n",
              "      const quickchartButtonEl =\n",
              "        document.querySelector('#' + key + ' button');\n",
              "      quickchartButtonEl.disabled = true;  // To prevent multiple clicks.\n",
              "      quickchartButtonEl.classList.add('colab-df-spinner');\n",
              "      try {\n",
              "        const charts = await google.colab.kernel.invokeFunction(\n",
              "            'suggestCharts', [key], {});\n",
              "      } catch (error) {\n",
              "        console.error('Error during call to suggestCharts:', error);\n",
              "      }\n",
              "      quickchartButtonEl.classList.remove('colab-df-spinner');\n",
              "      quickchartButtonEl.classList.add('colab-df-quickchart-complete');\n",
              "    }\n",
              "    (() => {\n",
              "      let quickchartButtonEl =\n",
              "        document.querySelector('#df-eaebba7f-9373-404a-8237-7a0b16ffa69f button');\n",
              "      quickchartButtonEl.style.display =\n",
              "        google.colab.kernel.accessAllowed ? 'block' : 'none';\n",
              "    })();\n",
              "  </script>\n",
              "</div>\n",
              "\n",
              "    </div>\n",
              "  </div>\n"
            ],
            "application/vnd.google.colaboratory.intrinsic+json": {
              "type": "dataframe",
              "summary": "{\n  \"name\": \"river_dam1_data\",\n  \"rows\": 5,\n  \"fields\": [\n    {\n      \"column\": \"Year\",\n      \"properties\": {\n        \"dtype\": \"number\",\n        \"std\": 0.0,\n        \"min\": 2024.0,\n        \"max\": 2024.0,\n        \"num_unique_values\": 1,\n        \"samples\": [\n          2024.0\n        ],\n        \"semantic_type\": \"\",\n        \"description\": \"\"\n      }\n    },\n    {\n      \"column\": \"Month\",\n      \"properties\": {\n        \"dtype\": \"number\",\n        \"std\": 0.0,\n        \"min\": 2.0,\n        \"max\": 2.0,\n        \"num_unique_values\": 1,\n        \"samples\": [\n          2.0\n        ],\n        \"semantic_type\": \"\",\n        \"description\": \"\"\n      }\n    },\n    {\n      \"column\": \"Day\",\n      \"properties\": {\n        \"dtype\": \"number\",\n        \"std\": 1.5811388300841898,\n        \"min\": 20.0,\n        \"max\": 24.0,\n        \"num_unique_values\": 5,\n        \"samples\": [\n          21.0\n        ],\n        \"semantic_type\": \"\",\n        \"description\": \"\"\n      }\n    },\n    {\n      \"column\": \"Average discharge\",\n      \"properties\": {\n        \"dtype\": \"number\",\n        \"std\": 0.1760319501605212,\n        \"min\": 270.80125,\n        \"max\": 271.215,\n        \"num_unique_values\": 5,\n        \"samples\": [\n          270.894\n        ],\n        \"semantic_type\": \"\",\n        \"description\": \"\"\n      }\n    }\n  ]\n}"
            }
          },
          "metadata": {},
          "execution_count": 28
        }
      ]
    },
    {
      "cell_type": "code",
      "source": [
        "river_dam1_data_list = river_dam1_data.values.tolist()\n",
        "river_dam2_data_list = river_dam2_data.values.tolist()\n",
        "river_dam3_data_list = river_dam3_data.values.tolist()\n",
        "river_dam4_data_list = river_dam4_data.values.tolist()"
      ],
      "metadata": {
        "id": "gwSWpg4VRjTx"
      },
      "execution_count": 29,
      "outputs": []
    },
    {
      "cell_type": "code",
      "source": [
        "new_data = river_dam1_data_list[:-49]\n",
        "print(new_data[-5:-1])\n",
        "print(len(new_data))\n",
        "print(new_data[-1])"
      ],
      "metadata": {
        "colab": {
          "base_uri": "https://localhost:8080/"
        },
        "id": "P7yLWSft4rwG",
        "outputId": "7e608dc5-dac6-4077-caeb-79699711f87e"
      },
      "execution_count": 30,
      "outputs": [
        {
          "output_type": "stream",
          "name": "stdout",
          "text": [
            "[[2023.0, 12.0, 22.0, 271.55], [2023.0, 12.0, 27.0, 271.51], [2023.0, 12.0, 28.0, 271.38], [2023.0, 12.0, 30.0, 271.23]]\n",
            "2620\n",
            "[2023.0, 12.0, 31.0, 271.23]\n"
          ]
        }
      ]
    },
    {
      "cell_type": "code",
      "source": [
        "for i in range(len(river_dam1_data_list[:-49])):\n",
        "  date_val_year,date_val_month,date_val_day = river_dam1_data_list[i][0],river_dam1_data_list[i][1],river_dam1_data_list[i][2]\n",
        "  fill_value = river_dam1_data_list[i][3]\n",
        "  date_obj = date(int(date_val_year), int(date_val_month), int(date_val_day))\n",
        "  final_data_dict[date_obj]['dam'][river_dam_name[0]]['Fill'] = fill_value\n",
        "\n",
        "  final_data_dict[date_obj]['dam'][river_dam_name[0]]['Lat'] = river_dam_lat_long[0][0]\n",
        "  final_data_dict[date_obj]['dam'][river_dam_name[0]]['Long'] = river_dam_lat_long[0][1]\n",
        "\n",
        "print(final_data_dict.get(start_date))"
      ],
      "metadata": {
        "colab": {
          "base_uri": "https://localhost:8080/"
        },
        "id": "t3txNbbCR16Z",
        "outputId": "23c950fe-7e4a-4d27-83bc-a11859b921fd"
      },
      "execution_count": 31,
      "outputs": [
        {
          "output_type": "stream",
          "name": "stdout",
          "text": [
            "{'river': {'Beyenburg (Ablaufpegel)': {}, 'Krebsöge': {}, 'Laaken': {}, 'Leimbach': {}}, 'dam': {'Herbringhauser Talsperre H': {}, 'Stauanlage Dahlhausen': {}, '(Stausee) Beyenburg': {}, 'Wupper-Talsperre': {}}, 'weather': {'4741': {'RS': 0.0, 'RS1': 0.2636962830860595, 'RS2': 0.8918441729782746, 'RS3': 0.2, 'RS7': 3.097967840408076, 'RS14': 8.41347532578988, 'RSF': 6, 'Lat': 51.14004, 'Long': 7.092982}, '5483': {'RS': 0.3, 'RS1': 0.09406528286717, 'RS2': 0.0, 'RS3': 0.1533292895166836, 'RS7': 1.663132480409251, 'RS14': 7.348551197333054, 'RSF': 4, 'Lat': 51.149817, 'Long': 7.186723}, '5717': {'RS': 0.1, 'RS1': 0.1027901147084698, 'RS2': 0.0812138492397264, 'RS3': 0.0, 'RS7': 0.453203994833308, 'RS14': 6.1172339595882335, 'RSF': 6, 'Lat': 51.225598, 'Long': 7.105176}}}\n"
          ]
        }
      ]
    },
    {
      "cell_type": "code",
      "source": [
        "for i in range(len(river_dam2_data_list)):\n",
        "  date_val_year,date_val_month,date_val_day = river_dam2_data_list[i][0],river_dam2_data_list[i][1],river_dam2_data_list[i][2]\n",
        "  fill_value = river_dam2_data_list[i][3]\n",
        "  date_obj = date(int(date_val_year), int(date_val_month), int(date_val_day))\n",
        "  final_data_dict[date_obj]['dam'][river_dam_name[1]]['Fill'] = fill_value\n",
        "\n",
        "  final_data_dict[date_obj]['dam'][river_dam_name[1]]['Lat'] = river_dam_lat_long[1][0]\n",
        "  final_data_dict[date_obj]['dam'][river_dam_name[1]]['Long'] = river_dam_lat_long[1][1]\n",
        "\n",
        "print(final_data_dict.get(start_date))"
      ],
      "metadata": {
        "colab": {
          "base_uri": "https://localhost:8080/"
        },
        "id": "LSA9y_hY8B6n",
        "outputId": "a0f7eebb-b71e-470c-9176-bf8070586655"
      },
      "execution_count": 32,
      "outputs": [
        {
          "output_type": "stream",
          "name": "stdout",
          "text": [
            "{'river': {'Beyenburg (Ablaufpegel)': {}, 'Krebsöge': {}, 'Laaken': {}, 'Leimbach': {}}, 'dam': {'Herbringhauser Talsperre H': {}, 'Stauanlage Dahlhausen': {}, '(Stausee) Beyenburg': {}, 'Wupper-Talsperre': {}}, 'weather': {'4741': {'RS': 0.0, 'RS1': 0.2636962830860595, 'RS2': 0.8918441729782746, 'RS3': 0.2, 'RS7': 3.097967840408076, 'RS14': 8.41347532578988, 'RSF': 6, 'Lat': 51.14004, 'Long': 7.092982}, '5483': {'RS': 0.3, 'RS1': 0.09406528286717, 'RS2': 0.0, 'RS3': 0.1533292895166836, 'RS7': 1.663132480409251, 'RS14': 7.348551197333054, 'RSF': 4, 'Lat': 51.149817, 'Long': 7.186723}, '5717': {'RS': 0.1, 'RS1': 0.1027901147084698, 'RS2': 0.0812138492397264, 'RS3': 0.0, 'RS7': 0.453203994833308, 'RS14': 6.1172339595882335, 'RSF': 6, 'Lat': 51.225598, 'Long': 7.105176}}}\n"
          ]
        }
      ]
    },
    {
      "cell_type": "code",
      "source": [
        "new_data = river_dam3_data_list[:-53]\n",
        "print(new_data[-5:-1])\n",
        "print(len(new_data))\n",
        "print(new_data[-1])"
      ],
      "metadata": {
        "colab": {
          "base_uri": "https://localhost:8080/"
        },
        "id": "ubMfBUqK8xuI",
        "outputId": "866a5005-50fb-4e15-f8c3-7e9966340b38"
      },
      "execution_count": 33,
      "outputs": [
        {
          "output_type": "stream",
          "name": "stdout",
          "text": [
            "[[2023.0, 12.0, 27.0, 197.00875], [2023.0, 12.0, 28.0, 196.9988888888889], [2023.0, 12.0, 29.0, 197.05341463414643], [2023.0, 12.0, 30.0, 197.01357142857145]]\n",
            "4119\n",
            "[2023.0, 12.0, 31.0, 197.02375]\n"
          ]
        }
      ]
    },
    {
      "cell_type": "code",
      "source": [
        "for i in range(len(river_dam3_data_list[:-53])):\n",
        "  date_val_year,date_val_month,date_val_day = river_dam3_data_list[i][0],river_dam3_data_list[i][1],river_dam3_data_list[i][2]\n",
        "  fill_value = river_dam3_data_list[i][3]\n",
        "  date_obj = date(int(date_val_year), int(date_val_month), int(date_val_day))\n",
        "  final_data_dict[date_obj]['dam'][river_dam_name[2]]['Fill'] = fill_value\n",
        "\n",
        "  final_data_dict[date_obj]['dam'][river_dam_name[2]]['Lat'] = river_dam_lat_long[2][0]\n",
        "  final_data_dict[date_obj]['dam'][river_dam_name[2]]['Long'] = river_dam_lat_long[2][1]\n",
        "\n",
        "print(final_data_dict.get(start_date))"
      ],
      "metadata": {
        "colab": {
          "base_uri": "https://localhost:8080/"
        },
        "id": "Q_k7QD-K8hAH",
        "outputId": "7167383d-9a9c-4839-a14b-7b64c7bf815b"
      },
      "execution_count": 34,
      "outputs": [
        {
          "output_type": "stream",
          "name": "stdout",
          "text": [
            "{'river': {'Beyenburg (Ablaufpegel)': {}, 'Krebsöge': {}, 'Laaken': {}, 'Leimbach': {}}, 'dam': {'Herbringhauser Talsperre H': {}, 'Stauanlage Dahlhausen': {}, '(Stausee) Beyenburg': {}, 'Wupper-Talsperre': {}}, 'weather': {'4741': {'RS': 0.0, 'RS1': 0.2636962830860595, 'RS2': 0.8918441729782746, 'RS3': 0.2, 'RS7': 3.097967840408076, 'RS14': 8.41347532578988, 'RSF': 6, 'Lat': 51.14004, 'Long': 7.092982}, '5483': {'RS': 0.3, 'RS1': 0.09406528286717, 'RS2': 0.0, 'RS3': 0.1533292895166836, 'RS7': 1.663132480409251, 'RS14': 7.348551197333054, 'RSF': 4, 'Lat': 51.149817, 'Long': 7.186723}, '5717': {'RS': 0.1, 'RS1': 0.1027901147084698, 'RS2': 0.0812138492397264, 'RS3': 0.0, 'RS7': 0.453203994833308, 'RS14': 6.1172339595882335, 'RSF': 6, 'Lat': 51.225598, 'Long': 7.105176}}}\n"
          ]
        }
      ]
    },
    {
      "cell_type": "code",
      "source": [
        "new_data = river_dam4_data_list[:-52]\n",
        "print(new_data[-5:-1])\n",
        "print(len(new_data))\n",
        "print(new_data[-1])"
      ],
      "metadata": {
        "colab": {
          "base_uri": "https://localhost:8080/"
        },
        "id": "TcSVunHp9F2C",
        "outputId": "71b20a70-e421-4ff2-e987-1652765ec1d7"
      },
      "execution_count": 35,
      "outputs": [
        {
          "output_type": "stream",
          "name": "stdout",
          "text": [
            "[[2023.0, 12.0, 27.0, 249.8844464285714], [2023.0, 12.0, 28.0, 249.10756043956056], [2023.0, 12.0, 29.0, 248.09116167664664], [2023.0, 12.0, 30.0, 247.2212272727272]]\n",
            "11070\n",
            "[2023.0, 12.0, 31.0, 246.47381690140853]\n"
          ]
        }
      ]
    },
    {
      "cell_type": "code",
      "source": [
        "for i in range(len(river_dam4_data_list[:-52])):\n",
        "  date_val_year,date_val_month,date_val_day = river_dam4_data_list[i][0],river_dam4_data_list[i][1],river_dam4_data_list[i][2]\n",
        "  fill_value = river_dam4_data_list[i][3]\n",
        "  date_obj = date(int(date_val_year), int(date_val_month), int(date_val_day))\n",
        "  final_data_dict[date_obj]['dam'][river_dam_name[3]]['Fill'] = fill_value\n",
        "\n",
        "  final_data_dict[date_obj]['dam'][river_dam_name[3]]['Lat'] = river_dam_lat_long[3][0]\n",
        "  final_data_dict[date_obj]['dam'][river_dam_name[3]]['Long'] = river_dam_lat_long[3][1]\n",
        "\n",
        "print(final_data_dict.get(start_date))"
      ],
      "metadata": {
        "colab": {
          "base_uri": "https://localhost:8080/"
        },
        "id": "aD8_BNrP877U",
        "outputId": "718b5faf-88a5-4aa3-e161-659e385fe6e6"
      },
      "execution_count": 36,
      "outputs": [
        {
          "output_type": "stream",
          "name": "stdout",
          "text": [
            "{'river': {'Beyenburg (Ablaufpegel)': {}, 'Krebsöge': {}, 'Laaken': {}, 'Leimbach': {}}, 'dam': {'Herbringhauser Talsperre H': {}, 'Stauanlage Dahlhausen': {}, '(Stausee) Beyenburg': {}, 'Wupper-Talsperre': {}}, 'weather': {'4741': {'RS': 0.0, 'RS1': 0.2636962830860595, 'RS2': 0.8918441729782746, 'RS3': 0.2, 'RS7': 3.097967840408076, 'RS14': 8.41347532578988, 'RSF': 6, 'Lat': 51.14004, 'Long': 7.092982}, '5483': {'RS': 0.3, 'RS1': 0.09406528286717, 'RS2': 0.0, 'RS3': 0.1533292895166836, 'RS7': 1.663132480409251, 'RS14': 7.348551197333054, 'RSF': 4, 'Lat': 51.149817, 'Long': 7.186723}, '5717': {'RS': 0.1, 'RS1': 0.1027901147084698, 'RS2': 0.0812138492397264, 'RS3': 0.0, 'RS7': 0.453203994833308, 'RS14': 6.1172339595882335, 'RSF': 6, 'Lat': 51.225598, 'Long': 7.105176}}}\n"
          ]
        }
      ]
    },
    {
      "cell_type": "code",
      "source": [
        "print(final_data_dict.get(end_date))"
      ],
      "metadata": {
        "colab": {
          "base_uri": "https://localhost:8080/"
        },
        "id": "Es-T0EP19bLP",
        "outputId": "bfc91881-bb24-48ea-8244-5e42e1cd298e"
      },
      "execution_count": 37,
      "outputs": [
        {
          "output_type": "stream",
          "name": "stdout",
          "text": [
            "{'river': {'Beyenburg (Ablaufpegel)': {'Fill': 39.835222614840994, 'Lat': 51.25031695, 'Long': 7.294208378}, 'Krebsöge': {'Fill': 184.81950354609936, 'Lat': 51.20040289, 'Long': 7.299968717}, 'Laaken': {'Fill': 197.33745583038865, 'Lat': 51.25486765, 'Long': 7.235787738}, 'Leimbach': {'Fill': 12.138934426229504, 'Lat': 51.28109889, 'Long': 7.191461179}}, 'dam': {'Herbringhauser Talsperre H': {'Fill': 271.23, 'Lat': 51.22163986, 'Long': 7.271519545}, 'Stauanlage Dahlhausen': {}, '(Stausee) Beyenburg': {'Fill': 197.02375, 'Lat': 51.24918673, 'Long': 7.299492518}, 'Wupper-Talsperre': {'Fill': 246.47381690140853, 'Lat': 51.19849529, 'Long': 7.303739196}}, 'weather': {'4741': {'RS': 2.9, 'RS1': 12.147656987125885, 'RS2': 10.545536553762858, 'RS3': 11.622892884852892, 'RS7': 3.3946988624477674, 'RS14': 4.4578129043166665, 'RSF': 4, 'Lat': 51.14004, 'Long': 7.092982}, '5483': {'RS': 3.6, 'RS1': 11.244526960322272, 'RS2': 22.84987980904456, 'RS3': 24.872048294172977, 'RS7': 8.163922041413075, 'RS14': 7.420041078449544, 'RSF': 6, 'Lat': 51.149817, 'Long': 7.186723}, '5717': {'RS': 5.0, 'RS1': 9.72428611893561, 'RS2': 27.137443785803672, 'RS3': 25.709806452052185, 'RS7': 0.0, 'RS14': 2.429940268947723, 'RSF': 4, 'Lat': 51.225598, 'Long': 7.105176}}}\n"
          ]
        }
      ]
    },
    {
      "cell_type": "code",
      "source": [
        "serialized_dict = {k.isoformat(): v for k, v in final_data_dict.items()}\n",
        "print(serialized_dict.get('2023-12-31'))"
      ],
      "metadata": {
        "colab": {
          "base_uri": "https://localhost:8080/"
        },
        "id": "y2DTxypKB9TA",
        "outputId": "9e0cac9d-4901-47f8-9c4e-85f14546861e"
      },
      "execution_count": 38,
      "outputs": [
        {
          "output_type": "stream",
          "name": "stdout",
          "text": [
            "{'river': {'Beyenburg (Ablaufpegel)': {'Fill': 39.835222614840994, 'Lat': 51.25031695, 'Long': 7.294208378}, 'Krebsöge': {'Fill': 184.81950354609936, 'Lat': 51.20040289, 'Long': 7.299968717}, 'Laaken': {'Fill': 197.33745583038865, 'Lat': 51.25486765, 'Long': 7.235787738}, 'Leimbach': {'Fill': 12.138934426229504, 'Lat': 51.28109889, 'Long': 7.191461179}}, 'dam': {'Herbringhauser Talsperre H': {'Fill': 271.23, 'Lat': 51.22163986, 'Long': 7.271519545}, 'Stauanlage Dahlhausen': {}, '(Stausee) Beyenburg': {'Fill': 197.02375, 'Lat': 51.24918673, 'Long': 7.299492518}, 'Wupper-Talsperre': {'Fill': 246.47381690140853, 'Lat': 51.19849529, 'Long': 7.303739196}}, 'weather': {'4741': {'RS': 2.9, 'RS1': 12.147656987125885, 'RS2': 10.545536553762858, 'RS3': 11.622892884852892, 'RS7': 3.3946988624477674, 'RS14': 4.4578129043166665, 'RSF': 4, 'Lat': 51.14004, 'Long': 7.092982}, '5483': {'RS': 3.6, 'RS1': 11.244526960322272, 'RS2': 22.84987980904456, 'RS3': 24.872048294172977, 'RS7': 8.163922041413075, 'RS14': 7.420041078449544, 'RSF': 6, 'Lat': 51.149817, 'Long': 7.186723}, '5717': {'RS': 5.0, 'RS1': 9.72428611893561, 'RS2': 27.137443785803672, 'RS3': 25.709806452052185, 'RS7': 0.0, 'RS14': 2.429940268947723, 'RSF': 4, 'Lat': 51.225598, 'Long': 7.105176}}}\n"
          ]
        }
      ]
    },
    {
      "cell_type": "code",
      "source": [
        "import json\n",
        "\n",
        "\n",
        "# Convert and write JSON object to file\n",
        "with open(\"Dataset_processed.json\", \"w\") as outfile:\n",
        "  json.dump(serialized_dict, fp=outfile)"
      ],
      "metadata": {
        "id": "khHrPlFU_ZGv"
      },
      "execution_count": 39,
      "outputs": []
    }
  ]
}